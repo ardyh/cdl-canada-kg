{
 "cells": [
  {
   "cell_type": "markdown",
   "metadata": {},
   "source": [
    "We want to:\n",
    "- Load the extracted information from X, Bluesky, and Reddit data\n",
    "- Cluster these to get entity membership"
   ]
  },
  {
   "cell_type": "code",
   "execution_count": 1,
   "metadata": {},
   "outputs": [
    {
     "name": "stderr",
     "output_type": "stream",
     "text": [
      "/nas/ckgfs/users/eboxer/complexdata/env/lib/python3.10/site-packages/tqdm/auto.py:21: TqdmWarning: IProgress not found. Please update jupyter and ipywidgets. See https://ipywidgets.readthedocs.io/en/stable/user_install.html\n",
      "  from .autonotebook import tqdm as notebook_tqdm\n"
     ]
    }
   ],
   "source": [
    "import pandas as pd\n",
    "import numpy as np\n",
    "import matplotlib.pyplot as plt\n",
    "import seaborn as sns\n",
    "\n",
    "import io\n",
    "import json\n",
    "import os\n",
    "import pickle\n",
    "import re\n",
    "import uuid\n",
    "\n",
    "from itertools import product \n",
    "\n",
    "from tqdm import tqdm\n",
    "\n",
    "from sentence_transformers import SentenceTransformer\n",
    "\n",
    "from sklearn.cluster import AgglomerativeClustering, \\\n",
    "    MiniBatchKMeans\n",
    "from sklearn.decomposition import PCA\n",
    "from sklearn.metrics import silhouette_score\n",
    "from sklearn.metrics.pairwise import cosine_similarity"
   ]
  },
  {
   "cell_type": "code",
   "execution_count": 2,
   "metadata": {},
   "outputs": [],
   "source": [
    "pd.set_option('display.max_columns', 100)"
   ]
  },
  {
   "cell_type": "markdown",
   "metadata": {},
   "source": [
    "# Load data\n",
    "From my and Ardy's extractions"
   ]
  },
  {
   "cell_type": "code",
   "execution_count": 3,
   "metadata": {},
   "outputs": [],
   "source": [
    "def default_loads(text) -> dict:\n",
    "    # json.loads with default value for empty values\n",
    "    if len(text) == 0:\n",
    "        return {}\n",
    "    return json.loads(text)"
   ]
  },
  {
   "cell_type": "code",
   "execution_count": 4,
   "metadata": {},
   "outputs": [
    {
     "name": "stdout",
     "output_type": "stream",
     "text": [
      "interactions_x : (385208, 5)\n"
     ]
    },
    {
     "name": "stderr",
     "output_type": "stream",
     "text": [
      "/tmp/ipykernel_172034/1981963069.py:5: DtypeWarning: Columns (10) have mixed types. Specify dtype option on import or set low_memory=False.\n",
      "  globals()[new_object_name] = pd.read_csv(os.path.join(data_dir, fname))\n"
     ]
    },
    {
     "name": "stdout",
     "output_type": "stream",
     "text": [
      "posts_x : (368354, 34)\n",
      "users_x : (17933, 24)\n",
      "interactions_bluesky : (460458, 6)\n"
     ]
    },
    {
     "name": "stderr",
     "output_type": "stream",
     "text": [
      "/tmp/ipykernel_172034/1981963069.py:5: DtypeWarning: Columns (14,18) have mixed types. Specify dtype option on import or set low_memory=False.\n",
      "  globals()[new_object_name] = pd.read_csv(os.path.join(data_dir, fname))\n"
     ]
    },
    {
     "name": "stdout",
     "output_type": "stream",
     "text": [
      "posts_bluesky : (349796, 27)\n",
      "users_bluesky : (274495, 10)\n"
     ]
    }
   ],
   "source": [
    "data_dir = './data/consolidated'\n",
    "fnames = os.listdir(data_dir)\n",
    "for fname in fnames:\n",
    "    new_object_name = '_'.join(fname.split('_')[:2])\n",
    "    globals()[new_object_name] = pd.read_csv(os.path.join(data_dir, fname))\n",
    "    print(new_object_name, ':', globals()[new_object_name].shape)"
   ]
  },
  {
   "cell_type": "markdown",
   "metadata": {},
   "source": [
    "## Reddit"
   ]
  },
  {
   "cell_type": "code",
   "execution_count": 5,
   "metadata": {},
   "outputs": [
    {
     "name": "stdout",
     "output_type": "stream",
     "text": [
      "(279, 6)\n"
     ]
    },
    {
     "data": {
      "text/html": [
       "<div>\n",
       "<style scoped>\n",
       "    .dataframe tbody tr th:only-of-type {\n",
       "        vertical-align: middle;\n",
       "    }\n",
       "\n",
       "    .dataframe tbody tr th {\n",
       "        vertical-align: top;\n",
       "    }\n",
       "\n",
       "    .dataframe thead th {\n",
       "        text-align: right;\n",
       "    }\n",
       "</style>\n",
       "<table border=\"1\" class=\"dataframe\">\n",
       "  <thead>\n",
       "    <tr style=\"text-align: right;\">\n",
       "      <th></th>\n",
       "      <th>record_id</th>\n",
       "      <th>text</th>\n",
       "      <th>score</th>\n",
       "      <th>created_utc</th>\n",
       "      <th>permalink</th>\n",
       "      <th>political_narratives</th>\n",
       "    </tr>\n",
       "  </thead>\n",
       "  <tbody>\n",
       "    <tr>\n",
       "      <th>0</th>\n",
       "      <td>1irkxfo</td>\n",
       "      <td>https://preview.redd.it/l51lcf6fkpje1.jpg?widt...</td>\n",
       "      <td>1</td>\n",
       "      <td>1739802140.0</td>\n",
       "      <td>https://www.reddit.com/r/canadaleft/comments/1...</td>\n",
       "      <td>[{'name': 'Doug Ford', 'action_or_role': 'dism...</td>\n",
       "    </tr>\n",
       "    <tr>\n",
       "      <th>1</th>\n",
       "      <td>1izj6zk</td>\n",
       "      <td>When we make claims like that, we have to take...</td>\n",
       "      <td>1</td>\n",
       "      <td>1740672206.0</td>\n",
       "      <td>https://www.reddit.com/r/CanadianConservative/...</td>\n",
       "      <td>[]</td>\n",
       "    </tr>\n",
       "    <tr>\n",
       "      <th>2</th>\n",
       "      <td>1iugb8j</td>\n",
       "      <td>Since Kash was confirmed today, republicans no...</td>\n",
       "      <td>2</td>\n",
       "      <td>1740105329.0</td>\n",
       "      <td>https://www.reddit.com/r/Conservative/comments...</td>\n",
       "      <td>[{'name': 'Kash Patel', 'action_or_role': 'Con...</td>\n",
       "    </tr>\n",
       "  </tbody>\n",
       "</table>\n",
       "</div>"
      ],
      "text/plain": [
       "  record_id                                               text score  \\\n",
       "0   1irkxfo  https://preview.redd.it/l51lcf6fkpje1.jpg?widt...     1   \n",
       "1   1izj6zk  When we make claims like that, we have to take...     1   \n",
       "2   1iugb8j  Since Kash was confirmed today, republicans no...     2   \n",
       "\n",
       "    created_utc                                          permalink  \\\n",
       "0  1739802140.0  https://www.reddit.com/r/canadaleft/comments/1...   \n",
       "1  1740672206.0  https://www.reddit.com/r/CanadianConservative/...   \n",
       "2  1740105329.0  https://www.reddit.com/r/Conservative/comments...   \n",
       "\n",
       "                                political_narratives  \n",
       "0  [{'name': 'Doug Ford', 'action_or_role': 'dism...  \n",
       "1                                                 []  \n",
       "2  [{'name': 'Kash Patel', 'action_or_role': 'Con...  "
      ]
     },
     "execution_count": 5,
     "metadata": {},
     "output_type": "execute_result"
    }
   ],
   "source": [
    "path = './data/intermediate_kg/narrative_v2_ent_obj_deduplicated.json'\n",
    "df_reddit = pd.read_json(path).T.reset_index()\n",
    "df_reddit = df_reddit.rename(columns={'index': 'record_id'})\n",
    "print(df_reddit.shape)\n",
    "df_reddit[:3]"
   ]
  },
  {
   "cell_type": "code",
   "execution_count": 6,
   "metadata": {},
   "outputs": [
    {
     "name": "stdout",
     "output_type": "stream",
     "text": [
      "Exploded: (919, 6)\n",
      "Normalized: (919, 10)\n"
     ]
    },
    {
     "data": {
      "text/html": [
       "<div>\n",
       "<style scoped>\n",
       "    .dataframe tbody tr th:only-of-type {\n",
       "        vertical-align: middle;\n",
       "    }\n",
       "\n",
       "    .dataframe tbody tr th {\n",
       "        vertical-align: top;\n",
       "    }\n",
       "\n",
       "    .dataframe thead th {\n",
       "        text-align: right;\n",
       "    }\n",
       "</style>\n",
       "<table border=\"1\" class=\"dataframe\">\n",
       "  <thead>\n",
       "    <tr style=\"text-align: right;\">\n",
       "      <th></th>\n",
       "      <th>record_id</th>\n",
       "      <th>text</th>\n",
       "      <th>score</th>\n",
       "      <th>created_utc</th>\n",
       "      <th>permalink</th>\n",
       "      <th>name</th>\n",
       "      <th>action_or_role</th>\n",
       "      <th>affected_entities</th>\n",
       "      <th>narrative</th>\n",
       "      <th>sentiment</th>\n",
       "    </tr>\n",
       "  </thead>\n",
       "  <tbody>\n",
       "    <tr>\n",
       "      <th>0</th>\n",
       "      <td>1irkxfo</td>\n",
       "      <td>https://preview.redd.it/l51lcf6fkpje1.jpg?widt...</td>\n",
       "      <td>1</td>\n",
       "      <td>1739802140.0</td>\n",
       "      <td>https://www.reddit.com/r/canadaleft/comments/1...</td>\n",
       "      <td>Doug Ford</td>\n",
       "      <td>dismantling Ontario</td>\n",
       "      <td>ontario residents</td>\n",
       "      <td>The narrative suggests a critical view of Doug...</td>\n",
       "      <td>negative</td>\n",
       "    </tr>\n",
       "    <tr>\n",
       "      <th>1</th>\n",
       "      <td>1irkxfo</td>\n",
       "      <td>https://preview.redd.it/l51lcf6fkpje1.jpg?widt...</td>\n",
       "      <td>1</td>\n",
       "      <td>1739802140.0</td>\n",
       "      <td>https://www.reddit.com/r/canadaleft/comments/1...</td>\n",
       "      <td>Duncan Kinney</td>\n",
       "      <td>outgoing editor-in-chief of The Progress Report</td>\n",
       "      <td>readers</td>\n",
       "      <td>The narrative reflects a sense of loss and app...</td>\n",
       "      <td>positive</td>\n",
       "    </tr>\n",
       "    <tr>\n",
       "      <th>2</th>\n",
       "      <td>1irkxfo</td>\n",
       "      <td>https://preview.redd.it/l51lcf6fkpje1.jpg?widt...</td>\n",
       "      <td>1</td>\n",
       "      <td>1739802140.0</td>\n",
       "      <td>https://www.reddit.com/r/canadaleft/comments/1...</td>\n",
       "      <td>Duncan Kinney</td>\n",
       "      <td>outgoing editor-in-chief of The Progress Report</td>\n",
       "      <td>followers of the progress report</td>\n",
       "      <td>The narrative reflects a sense of loss and app...</td>\n",
       "      <td>positive</td>\n",
       "    </tr>\n",
       "  </tbody>\n",
       "</table>\n",
       "</div>"
      ],
      "text/plain": [
       "  record_id                                               text score  \\\n",
       "0   1irkxfo  https://preview.redd.it/l51lcf6fkpje1.jpg?widt...     1   \n",
       "1   1irkxfo  https://preview.redd.it/l51lcf6fkpje1.jpg?widt...     1   \n",
       "2   1irkxfo  https://preview.redd.it/l51lcf6fkpje1.jpg?widt...     1   \n",
       "\n",
       "    created_utc                                          permalink  \\\n",
       "0  1739802140.0  https://www.reddit.com/r/canadaleft/comments/1...   \n",
       "1  1739802140.0  https://www.reddit.com/r/canadaleft/comments/1...   \n",
       "2  1739802140.0  https://www.reddit.com/r/canadaleft/comments/1...   \n",
       "\n",
       "            name                                   action_or_role  \\\n",
       "0      Doug Ford                              dismantling Ontario   \n",
       "1  Duncan Kinney  outgoing editor-in-chief of The Progress Report   \n",
       "2  Duncan Kinney  outgoing editor-in-chief of The Progress Report   \n",
       "\n",
       "                  affected_entities  \\\n",
       "0                 ontario residents   \n",
       "1                           readers   \n",
       "2  followers of the progress report   \n",
       "\n",
       "                                           narrative sentiment  \n",
       "0  The narrative suggests a critical view of Doug...  negative  \n",
       "1  The narrative reflects a sense of loss and app...  positive  \n",
       "2  The narrative reflects a sense of loss and app...  positive  "
      ]
     },
     "execution_count": 6,
     "metadata": {},
     "output_type": "execute_result"
    }
   ],
   "source": [
    "# Normalize the extractions\n",
    "df_reddit = df_reddit.explode(['political_narratives']).reset_index(drop=True)\n",
    "print('Exploded:', df_reddit.shape)\n",
    "df_reddit = df_reddit.drop(columns=['political_narratives']).join(\n",
    "    pd.json_normalize(df_reddit['political_narratives'])\n",
    ")\n",
    "print('Normalized:', df_reddit.shape)\n",
    "df_reddit[:3]"
   ]
  },
  {
   "cell_type": "code",
   "execution_count": 7,
   "metadata": {},
   "outputs": [
    {
     "data": {
      "text/plain": [
       "sentiment\n",
       "-1.0    383\n",
       " 1.0    364\n",
       " 0.0     96\n",
       " NaN     76\n",
       "Name: count, dtype: int64"
      ]
     },
     "execution_count": 7,
     "metadata": {},
     "output_type": "execute_result"
    }
   ],
   "source": [
    "# Clean up sentiment\n",
    "def clean_sentiment(text) -> int:\n",
    "    if text == 'negative':\n",
    "        return -1\n",
    "    elif text == 'neutral':\n",
    "        return 0\n",
    "    elif text == 'positive':\n",
    "        return 1\n",
    "    return text\n",
    "df_reddit.loc[:, 'sentiment'] = df_reddit['sentiment'].apply(clean_sentiment)\n",
    "df_reddit['sentiment'].value_counts(dropna=False)"
   ]
  },
  {
   "cell_type": "code",
   "execution_count": 8,
   "metadata": {},
   "outputs": [],
   "source": [
    "# Rename in agreement with my extractions\n",
    "df_reddit = df_reddit.rename(columns={\n",
    "    'name': 'agent_norm',\n",
    "    'action_or_role': 'action_or_event_norm',\n",
    "    'affected_entities': 'object_norm',\n",
    "    'narrative': 'narrative',\n",
    "})"
   ]
  },
  {
   "cell_type": "markdown",
   "metadata": {},
   "source": [
    "## Bluesky"
   ]
  },
  {
   "cell_type": "code",
   "execution_count": 9,
   "metadata": {},
   "outputs": [
    {
     "name": "stdout",
     "output_type": "stream",
     "text": [
      "23872\n"
     ]
    }
   ],
   "source": [
    "path = './data/processed/gpt4omini_posts_bluesky_20250301_20250314_extractions_zeroshot.pkl'\n",
    "with open(path, 'rb') as f:\n",
    "    id2processed_text = pickle.load(f)\n",
    "id2processed_text = {id_: default_loads(text).get('events', []) for id_, text in id2processed_text.items()}\n",
    "print(len(id2processed_text))"
   ]
  },
  {
   "cell_type": "code",
   "execution_count": 10,
   "metadata": {},
   "outputs": [
    {
     "name": "stdout",
     "output_type": "stream",
     "text": [
      "(23872, 2)\n"
     ]
    },
    {
     "data": {
      "text/html": [
       "<div>\n",
       "<style scoped>\n",
       "    .dataframe tbody tr th:only-of-type {\n",
       "        vertical-align: middle;\n",
       "    }\n",
       "\n",
       "    .dataframe tbody tr th {\n",
       "        vertical-align: top;\n",
       "    }\n",
       "\n",
       "    .dataframe thead th {\n",
       "        text-align: right;\n",
       "    }\n",
       "</style>\n",
       "<table border=\"1\" class=\"dataframe\">\n",
       "  <thead>\n",
       "    <tr style=\"text-align: right;\">\n",
       "      <th></th>\n",
       "      <th>record_id</th>\n",
       "      <th>political_narratives</th>\n",
       "    </tr>\n",
       "  </thead>\n",
       "  <tbody>\n",
       "    <tr>\n",
       "      <th>0</th>\n",
       "      <td>at://did:plc:24mnsbrqf2z3eois4q4yxenw/app.bsky...</td>\n",
       "      <td>[{'agent': 'Carney', 'agent_norm': 'Carney', '...</td>\n",
       "    </tr>\n",
       "    <tr>\n",
       "      <th>1</th>\n",
       "      <td>at://did:plc:26okds6jkoyhx7zkgqo5iwgj/app.bsky...</td>\n",
       "      <td>[{'agent': 'Jagmeet Singh', 'agent_norm': 'Jag...</td>\n",
       "    </tr>\n",
       "    <tr>\n",
       "      <th>2</th>\n",
       "      <td>at://did:plc:2nlz6ge4fvmed2vbeh5lqemn/app.bsky...</td>\n",
       "      <td>[{'agent': 'User', 'agent_norm': 'User', 'acti...</td>\n",
       "    </tr>\n",
       "  </tbody>\n",
       "</table>\n",
       "</div>"
      ],
      "text/plain": [
       "                                           record_id  \\\n",
       "0  at://did:plc:24mnsbrqf2z3eois4q4yxenw/app.bsky...   \n",
       "1  at://did:plc:26okds6jkoyhx7zkgqo5iwgj/app.bsky...   \n",
       "2  at://did:plc:2nlz6ge4fvmed2vbeh5lqemn/app.bsky...   \n",
       "\n",
       "                                political_narratives  \n",
       "0  [{'agent': 'Carney', 'agent_norm': 'Carney', '...  \n",
       "1  [{'agent': 'Jagmeet Singh', 'agent_norm': 'Jag...  \n",
       "2  [{'agent': 'User', 'agent_norm': 'User', 'acti...  "
      ]
     },
     "execution_count": 10,
     "metadata": {},
     "output_type": "execute_result"
    }
   ],
   "source": [
    "df_bluesky = pd.DataFrame({\n",
    "    'record_id': id2processed_text.keys(),\n",
    "    'political_narratives': id2processed_text.values(),\n",
    "})\n",
    "print(df_bluesky.shape)\n",
    "df_bluesky[:3]"
   ]
  },
  {
   "cell_type": "code",
   "execution_count": 11,
   "metadata": {},
   "outputs": [
    {
     "name": "stdout",
     "output_type": "stream",
     "text": [
      "Exploded: (38870, 2)\n",
      "Normalized: (38870, 8)\n"
     ]
    },
    {
     "data": {
      "text/html": [
       "<div>\n",
       "<style scoped>\n",
       "    .dataframe tbody tr th:only-of-type {\n",
       "        vertical-align: middle;\n",
       "    }\n",
       "\n",
       "    .dataframe tbody tr th {\n",
       "        vertical-align: top;\n",
       "    }\n",
       "\n",
       "    .dataframe thead th {\n",
       "        text-align: right;\n",
       "    }\n",
       "</style>\n",
       "<table border=\"1\" class=\"dataframe\">\n",
       "  <thead>\n",
       "    <tr style=\"text-align: right;\">\n",
       "      <th></th>\n",
       "      <th>record_id</th>\n",
       "      <th>agent</th>\n",
       "      <th>agent_norm</th>\n",
       "      <th>action_or_event</th>\n",
       "      <th>action_or_event_norm</th>\n",
       "      <th>object</th>\n",
       "      <th>object_norm</th>\n",
       "      <th>narrative</th>\n",
       "    </tr>\n",
       "  </thead>\n",
       "  <tbody>\n",
       "    <tr>\n",
       "      <th>0</th>\n",
       "      <td>at://did:plc:24mnsbrqf2z3eois4q4yxenw/app.bsky...</td>\n",
       "      <td>Carney</td>\n",
       "      <td>Carney</td>\n",
       "      <td>find new blood to run with him</td>\n",
       "      <td>find new candidates</td>\n",
       "      <td>the party</td>\n",
       "      <td>the party</td>\n",
       "      <td>Carney is expected to recruit new candidates f...</td>\n",
       "    </tr>\n",
       "    <tr>\n",
       "      <th>1</th>\n",
       "      <td>at://did:plc:26okds6jkoyhx7zkgqo5iwgj/app.bsky...</td>\n",
       "      <td>Jagmeet Singh</td>\n",
       "      <td>Jagmeet Singh</td>\n",
       "      <td>criticizing</td>\n",
       "      <td>criticize</td>\n",
       "      <td>NDP</td>\n",
       "      <td>New Democratic Party</td>\n",
       "      <td>Jagmeet Singh criticizes the NDP for betraying...</td>\n",
       "    </tr>\n",
       "    <tr>\n",
       "      <th>2</th>\n",
       "      <td>at://did:plc:26okds6jkoyhx7zkgqo5iwgj/app.bsky...</td>\n",
       "      <td>Canadians</td>\n",
       "      <td>Canadians</td>\n",
       "      <td>judging</td>\n",
       "      <td>judge</td>\n",
       "      <td>NDP's record</td>\n",
       "      <td>New Democratic Party's record</td>\n",
       "      <td>Canadians are judging the New Democratic Party...</td>\n",
       "    </tr>\n",
       "  </tbody>\n",
       "</table>\n",
       "</div>"
      ],
      "text/plain": [
       "                                           record_id          agent  \\\n",
       "0  at://did:plc:24mnsbrqf2z3eois4q4yxenw/app.bsky...         Carney   \n",
       "1  at://did:plc:26okds6jkoyhx7zkgqo5iwgj/app.bsky...  Jagmeet Singh   \n",
       "2  at://did:plc:26okds6jkoyhx7zkgqo5iwgj/app.bsky...      Canadians   \n",
       "\n",
       "      agent_norm                 action_or_event action_or_event_norm  \\\n",
       "0         Carney  find new blood to run with him  find new candidates   \n",
       "1  Jagmeet Singh                     criticizing            criticize   \n",
       "2      Canadians                         judging                judge   \n",
       "\n",
       "         object                    object_norm  \\\n",
       "0     the party                      the party   \n",
       "1           NDP           New Democratic Party   \n",
       "2  NDP's record  New Democratic Party's record   \n",
       "\n",
       "                                           narrative  \n",
       "0  Carney is expected to recruit new candidates f...  \n",
       "1  Jagmeet Singh criticizes the NDP for betraying...  \n",
       "2  Canadians are judging the New Democratic Party...  "
      ]
     },
     "execution_count": 11,
     "metadata": {},
     "output_type": "execute_result"
    }
   ],
   "source": [
    "# Normalize the extractions\n",
    "df_bluesky = df_bluesky.explode(['political_narratives']).reset_index(drop=True)\n",
    "print('Exploded:', df_bluesky.shape)\n",
    "df_bluesky = df_bluesky.drop(columns=['political_narratives']).join(\n",
    "    pd.json_normalize(df_bluesky['political_narratives'])\n",
    ")\n",
    "print('Normalized:', df_bluesky.shape)\n",
    "df_bluesky[:3]"
   ]
  },
  {
   "cell_type": "code",
   "execution_count": 12,
   "metadata": {},
   "outputs": [
    {
     "data": {
      "text/plain": [
       "349778"
      ]
     },
     "execution_count": 12,
     "metadata": {},
     "output_type": "execute_result"
    }
   ],
   "source": [
    "# Replace generic \"User\" with user's name\n",
    "temp = posts_bluesky.set_index(['did'])[['uri']].join(\n",
    "    users_bluesky.set_index(['did'])[['name']]\n",
    ").drop_duplicates()\n",
    "record_id2user_name = {\n",
    "    record_id: name for record_id, name in zip(\n",
    "        temp['uri'], temp['name']\n",
    "    )\n",
    "}\n",
    "len(record_id2user_name)"
   ]
  },
  {
   "cell_type": "code",
   "execution_count": 13,
   "metadata": {},
   "outputs": [],
   "source": [
    "def impute_user_name(\n",
    "    row: pd.Series, record_id2user_name, col_to_impute, record_id_col,\n",
    ") -> str:\n",
    "    # Impute user name\n",
    "    val = row[col_to_impute]\n",
    "    if val == 'User':\n",
    "        user_name = record_id2user_name.get(row[record_id_col], 'User')\n",
    "        return user_name\n",
    "    return val"
   ]
  },
  {
   "cell_type": "code",
   "execution_count": 14,
   "metadata": {},
   "outputs": [],
   "source": [
    "df_bluesky.loc[:,'agent_norm'] = df_bluesky.apply(\n",
    "    impute_user_name,\n",
    "    record_id2user_name=record_id2user_name,\n",
    "    col_to_impute='agent_norm',\n",
    "    record_id_col='record_id',\n",
    "    axis=1\n",
    ")\n",
    "df_bluesky.loc[:,'object_norm'] = df_bluesky.apply(\n",
    "    impute_user_name,\n",
    "    record_id2user_name=record_id2user_name,\n",
    "    col_to_impute='object_norm',\n",
    "    record_id_col='record_id',\n",
    "    axis=1\n",
    ")"
   ]
  },
  {
   "cell_type": "markdown",
   "metadata": {},
   "source": [
    "## X"
   ]
  },
  {
   "cell_type": "code",
   "execution_count": 15,
   "metadata": {},
   "outputs": [
    {
     "name": "stdout",
     "output_type": "stream",
     "text": [
      "33460\n"
     ]
    }
   ],
   "source": [
    "path = './data/processed/gpt4omini_posts_x_20250301_20250314_extractions_zeroshot.pkl'\n",
    "with open(path, 'rb') as f:\n",
    "    id2processed_text = pickle.load(f)\n",
    "id2processed_text = {id_: default_loads(text).get('events', []) for id_, text in id2processed_text.items()}\n",
    "print(len(id2processed_text))"
   ]
  },
  {
   "cell_type": "code",
   "execution_count": 16,
   "metadata": {},
   "outputs": [
    {
     "name": "stdout",
     "output_type": "stream",
     "text": [
      "(33460, 2)\n"
     ]
    },
    {
     "data": {
      "text/html": [
       "<div>\n",
       "<style scoped>\n",
       "    .dataframe tbody tr th:only-of-type {\n",
       "        vertical-align: middle;\n",
       "    }\n",
       "\n",
       "    .dataframe tbody tr th {\n",
       "        vertical-align: top;\n",
       "    }\n",
       "\n",
       "    .dataframe thead th {\n",
       "        text-align: right;\n",
       "    }\n",
       "</style>\n",
       "<table border=\"1\" class=\"dataframe\">\n",
       "  <thead>\n",
       "    <tr style=\"text-align: right;\">\n",
       "      <th></th>\n",
       "      <th>record_id</th>\n",
       "      <th>political_narratives</th>\n",
       "    </tr>\n",
       "  </thead>\n",
       "  <tbody>\n",
       "    <tr>\n",
       "      <th>0</th>\n",
       "      <td>1398002277387014152</td>\n",
       "      <td>[{'agent': 'Carney', 'agent_norm': 'Mark Carne...</td>\n",
       "    </tr>\n",
       "    <tr>\n",
       "      <th>1</th>\n",
       "      <td>1630059373576830976</td>\n",
       "      <td>[{'agent': 'User', 'agent_norm': 'User', 'acti...</td>\n",
       "    </tr>\n",
       "    <tr>\n",
       "      <th>2</th>\n",
       "      <td>1747040105158877466</td>\n",
       "      <td>[{'agent': '@daleethompson', 'agent_norm': 'Da...</td>\n",
       "    </tr>\n",
       "  </tbody>\n",
       "</table>\n",
       "</div>"
      ],
      "text/plain": [
       "             record_id                               political_narratives\n",
       "0  1398002277387014152  [{'agent': 'Carney', 'agent_norm': 'Mark Carne...\n",
       "1  1630059373576830976  [{'agent': 'User', 'agent_norm': 'User', 'acti...\n",
       "2  1747040105158877466  [{'agent': '@daleethompson', 'agent_norm': 'Da..."
      ]
     },
     "execution_count": 16,
     "metadata": {},
     "output_type": "execute_result"
    }
   ],
   "source": [
    "df_x = pd.DataFrame({\n",
    "    'record_id': id2processed_text.keys(),\n",
    "    'political_narratives': id2processed_text.values(),\n",
    "})\n",
    "print(df_x.shape)\n",
    "df_x[:3]"
   ]
  },
  {
   "cell_type": "code",
   "execution_count": 17,
   "metadata": {},
   "outputs": [
    {
     "name": "stdout",
     "output_type": "stream",
     "text": [
      "Exploded: (54397, 2)\n",
      "Normalized: (54397, 8)\n"
     ]
    },
    {
     "data": {
      "text/html": [
       "<div>\n",
       "<style scoped>\n",
       "    .dataframe tbody tr th:only-of-type {\n",
       "        vertical-align: middle;\n",
       "    }\n",
       "\n",
       "    .dataframe tbody tr th {\n",
       "        vertical-align: top;\n",
       "    }\n",
       "\n",
       "    .dataframe thead th {\n",
       "        text-align: right;\n",
       "    }\n",
       "</style>\n",
       "<table border=\"1\" class=\"dataframe\">\n",
       "  <thead>\n",
       "    <tr style=\"text-align: right;\">\n",
       "      <th></th>\n",
       "      <th>record_id</th>\n",
       "      <th>agent</th>\n",
       "      <th>agent_norm</th>\n",
       "      <th>action_or_event</th>\n",
       "      <th>action_or_event_norm</th>\n",
       "      <th>object</th>\n",
       "      <th>object_norm</th>\n",
       "      <th>narrative</th>\n",
       "    </tr>\n",
       "  </thead>\n",
       "  <tbody>\n",
       "    <tr>\n",
       "      <th>0</th>\n",
       "      <td>1398002277387014152</td>\n",
       "      <td>Carney</td>\n",
       "      <td>Mark Carney</td>\n",
       "      <td>is lecturing</td>\n",
       "      <td>lecturing</td>\n",
       "      <td>business</td>\n",
       "      <td>business sector</td>\n",
       "      <td>Mark Carney is advocating for ethical business...</td>\n",
       "    </tr>\n",
       "    <tr>\n",
       "      <th>1</th>\n",
       "      <td>1398002277387014152</td>\n",
       "      <td>Carney</td>\n",
       "      <td>Mark Carney</td>\n",
       "      <td>had a chance to put his money where his mouth is</td>\n",
       "      <td>had an opportunity to act on his statements</td>\n",
       "      <td>the Uyghur genocide</td>\n",
       "      <td>Uyghur genocide</td>\n",
       "      <td>Mark Carney is under scrutiny for his commitme...</td>\n",
       "    </tr>\n",
       "    <tr>\n",
       "      <th>2</th>\n",
       "      <td>1398002277387014152</td>\n",
       "      <td>Carney</td>\n",
       "      <td>Mark Carney</td>\n",
       "      <td>choose people or profits</td>\n",
       "      <td>faced a decision between ethical principles an...</td>\n",
       "      <td></td>\n",
       "      <td></td>\n",
       "      <td>Mark Carney is at a moral crossroads regarding...</td>\n",
       "    </tr>\n",
       "  </tbody>\n",
       "</table>\n",
       "</div>"
      ],
      "text/plain": [
       "             record_id   agent   agent_norm  \\\n",
       "0  1398002277387014152  Carney  Mark Carney   \n",
       "1  1398002277387014152  Carney  Mark Carney   \n",
       "2  1398002277387014152  Carney  Mark Carney   \n",
       "\n",
       "                                    action_or_event  \\\n",
       "0                                      is lecturing   \n",
       "1  had a chance to put his money where his mouth is   \n",
       "2                          choose people or profits   \n",
       "\n",
       "                                action_or_event_norm               object  \\\n",
       "0                                          lecturing             business   \n",
       "1        had an opportunity to act on his statements  the Uyghur genocide   \n",
       "2  faced a decision between ethical principles an...                        \n",
       "\n",
       "       object_norm                                          narrative  \n",
       "0  business sector  Mark Carney is advocating for ethical business...  \n",
       "1  Uyghur genocide  Mark Carney is under scrutiny for his commitme...  \n",
       "2                   Mark Carney is at a moral crossroads regarding...  "
      ]
     },
     "execution_count": 17,
     "metadata": {},
     "output_type": "execute_result"
    }
   ],
   "source": [
    "# Normalize the extractions\n",
    "df_x = df_x.explode(['political_narratives']).reset_index(drop=True)\n",
    "print('Exploded:', df_x.shape)\n",
    "df_x = df_x.drop(columns=['political_narratives']).join(\n",
    "    pd.json_normalize(df_x['political_narratives'])\n",
    ")\n",
    "print('Normalized:', df_x.shape)\n",
    "df_x[:3]"
   ]
  },
  {
   "cell_type": "code",
   "execution_count": 18,
   "metadata": {},
   "outputs": [
    {
     "data": {
      "text/plain": [
       "344121"
      ]
     },
     "execution_count": 18,
     "metadata": {},
     "output_type": "execute_result"
    }
   ],
   "source": [
    "# Replace generic \"User\" with user's name\n",
    "temp = posts_x.set_index(['author_id'])[['tweet_id']].join(\n",
    "    users_x.set_index(['author_id'])[['name']]\n",
    ").drop_duplicates()\n",
    "record_id2user_name = {\n",
    "    record_id: name for record_id, name in zip(\n",
    "        temp['tweet_id'], temp['name']\n",
    "    )\n",
    "}\n",
    "len(record_id2user_name)"
   ]
  },
  {
   "cell_type": "code",
   "execution_count": 19,
   "metadata": {},
   "outputs": [],
   "source": [
    "df_bluesky.loc[:,'agent_norm'] = df_bluesky.apply(\n",
    "    impute_user_name,\n",
    "    record_id2user_name=record_id2user_name,\n",
    "    col_to_impute='agent_norm',\n",
    "    record_id_col='record_id',\n",
    "    axis=1\n",
    ")\n",
    "df_bluesky.loc[:,'object_norm'] = df_bluesky.apply(\n",
    "    impute_user_name,\n",
    "    record_id2user_name=record_id2user_name,\n",
    "    col_to_impute='object_norm',\n",
    "    record_id_col='record_id',\n",
    "    axis=1\n",
    ")"
   ]
  },
  {
   "cell_type": "markdown",
   "metadata": {},
   "source": [
    "## Preprocessing"
   ]
  },
  {
   "cell_type": "code",
   "execution_count": 20,
   "metadata": {},
   "outputs": [],
   "source": [
    "# Indicate null extractions\n",
    "null_extractions = {\n",
    "    '', '.', '/', ':', ',', '>',\n",
    "    'none', ': none', 'unknown',\n",
    "}\n",
    "def clean_nulls(text):\n",
    "    if pd.isna(text):\n",
    "        return None\n",
    "    elif type(text) != str:\n",
    "        return text\n",
    "    elif text.lower().strip() in null_extractions:\n",
    "        return None\n",
    "    return text\n",
    "\n",
    "df_bluesky.loc[:,'agent_norm'] = df_bluesky['agent_norm'].apply(clean_nulls)\n",
    "df_bluesky.loc[:,'object_norm'] = df_bluesky['object_norm'].apply(clean_nulls)\n",
    "df_x.loc[:,'agent_norm'] = df_x['agent_norm'].apply(clean_nulls)\n",
    "df_x.loc[:,'object_norm'] = df_x['object_norm'].apply(clean_nulls)"
   ]
  },
  {
   "cell_type": "code",
   "execution_count": 21,
   "metadata": {},
   "outputs": [
    {
     "name": "stdout",
     "output_type": "stream",
     "text": [
      "Column: agent_norm\n",
      "Before cleaning: 184\n",
      "After cleaning: 183\n",
      "====================\n",
      "Column: action_or_event_norm\n",
      "Before cleaning: 417\n",
      "After cleaning: 416\n",
      "====================\n",
      "Column: object_norm\n",
      "Before cleaning: 441\n",
      "After cleaning: 441\n",
      "====================\n",
      "Column: narrative\n",
      "Before cleaning: 448\n",
      "After cleaning: 448\n",
      "====================\n",
      "Column: agent_norm\n",
      "Before cleaning: 7418\n",
      "After cleaning: 7179\n",
      "====================\n",
      "Column: action_or_event_norm\n",
      "Before cleaning: 18485\n",
      "After cleaning: 18097\n",
      "====================\n",
      "Column: object_norm\n",
      "Before cleaning: 11212\n",
      "After cleaning: 10784\n",
      "====================\n",
      "Column: narrative\n",
      "Before cleaning: 36198\n",
      "After cleaning: 36197\n",
      "====================\n",
      "Column: agent_norm\n",
      "Before cleaning: 3490\n",
      "After cleaning: 3442\n",
      "====================\n",
      "Column: action_or_event_norm\n",
      "Before cleaning: 33298\n",
      "After cleaning: 33251\n",
      "====================\n",
      "Column: object_norm\n",
      "Before cleaning: 13237\n",
      "After cleaning: 12956\n",
      "====================\n",
      "Column: narrative\n",
      "Before cleaning: 44687\n",
      "After cleaning: 44682\n",
      "====================\n"
     ]
    }
   ],
   "source": [
    "# Clean up the text to reduce some of the unique examples for clustering\n",
    "cols = [\n",
    "    'agent_norm',\n",
    "    'action_or_event_norm',\n",
    "    'object_norm',\n",
    "    'narrative'\n",
    "]\n",
    "\n",
    "def clean_text(text):\n",
    "    if pd.isna(text):\n",
    "        return None\n",
    "    text = text.strip().lower()\n",
    "    return text\n",
    "\n",
    "for df in [df_reddit, df_bluesky, df_x]:\n",
    "    for col in cols:\n",
    "        print('Column:', col)\n",
    "        print('Before cleaning:', df[col].nunique())\n",
    "        df.loc[:,f'{col}_clean'] = df[col].apply(clean_text)\n",
    "        print('After cleaning:', df[f'{col}_clean'].nunique())\n",
    "        print('='*20)"
   ]
  },
  {
   "cell_type": "code",
   "execution_count": null,
   "metadata": {},
   "outputs": [
    {
     "name": "stdout",
     "output_type": "stream",
     "text": [
      "Wrote to file\n"
     ]
    }
   ],
   "source": [
    "# # Export cleaned dataframes for use later\n",
    "# export_path = './data/extractions/'\n",
    "# df_reddit.to_pickle(os.path.join(export_path, 'df_reddit_extractions_clean.pkl'))\n",
    "# df_bluesky.to_pickle(os.path.join(export_path, 'df_bluesky_extractions_clean.pkl'))\n",
    "# df_x.to_pickle(os.path.join(export_path, 'df_x_extractions_clean.pkl'))\n",
    "# print(\"Wrote to file\")"
   ]
  },
  {
   "cell_type": "markdown",
   "metadata": {},
   "source": [
    "# Cluster"
   ]
  },
  {
   "cell_type": "code",
   "execution_count": 23,
   "metadata": {},
   "outputs": [],
   "source": [
    "# Load model\n",
    "model = SentenceTransformer(\n",
    "    'sentence-transformers/all-mpnet-base-v2',\n",
    "    device='cuda:2'\n",
    ")"
   ]
  },
  {
   "cell_type": "code",
   "execution_count": 47,
   "metadata": {},
   "outputs": [
    {
     "name": "stdout",
     "output_type": "stream",
     "text": [
      "Dataset: reddit\t\tColumn: agent_norm_clean\t\t# of values: 183\n",
      "Dataset: reddit\t\tColumn: action_or_event_norm_clean\t\t# of values: 416\n",
      "Dataset: reddit\t\tColumn: object_norm_clean\t\t# of values: 441\n",
      "Dataset: reddit\t\tColumn: narrative_clean\t\t# of values: 448\n",
      "Dataset: bluesky\t\tColumn: agent_norm_clean\t\t# of values: 7179\n",
      "Dataset: bluesky\t\tColumn: action_or_event_norm_clean\t\t# of values: 18097\n",
      "Dataset: bluesky\t\tColumn: object_norm_clean\t\t# of values: 10784\n",
      "Dataset: bluesky\t\tColumn: narrative_clean\t\t# of values: 36197\n",
      "Dataset: x\t\tColumn: agent_norm_clean\t\t# of values: 3442\n",
      "Dataset: x\t\tColumn: action_or_event_norm_clean\t\t# of values: 33251\n",
      "Dataset: x\t\tColumn: object_norm_clean\t\t# of values: 12956\n",
      "Dataset: x\t\tColumn: narrative_clean\t\t# of values: 44682\n",
      "==================================================\n",
      "Overall\t\tColumn: agent_norm_clean\t\t# of values: 10200\n",
      "Overall\t\tColumn: action_or_event_norm_clean\t\t# of values: 50118\n",
      "Overall\t\tColumn: object_norm_clean\t\t# of values: 22302\n",
      "Overall\t\tColumn: narrative_clean\t\t# of values: 81306\n"
     ]
    }
   ],
   "source": [
    "# Collect inputs to be clustered\n",
    "cols_to_cluster = [\n",
    "    'agent_norm_clean',\n",
    "    'action_or_event_norm_clean',\n",
    "    'object_norm_clean',\n",
    "    'narrative_clean'\n",
    "]\n",
    "\n",
    "# Dataset name to dataframe\n",
    "dataset2df = {\n",
    "    'reddit': df_reddit,\n",
    "    'bluesky': df_bluesky,\n",
    "    'x': df_x,\n",
    "}\n",
    "\n",
    "# Mapping from dataset to column name to unique values\n",
    "dataset2col2values = {}\n",
    "for dataset, df in dataset2df.items():\n",
    "    dataset2col2values[dataset] = {}\n",
    "    for col in cols_to_cluster:\n",
    "        values = df[col].unique()\n",
    "        values = [v for v in values if not pd.isna(v)]\n",
    "        dataset2col2values[dataset][col] = values\n",
    "        print(f'Dataset: {dataset}\\t\\tColumn: {col}\\t\\t# of values: {len(values)}')\n",
    "\n",
    "print('='*50)\n",
    "# Get overall unique values per column\n",
    "overall_col2values = {}\n",
    "for col in cols_to_cluster:\n",
    "    values = []\n",
    "    for df in dataset2df.values():\n",
    "        values.append(df[col])\n",
    "    values = pd.concat(values).unique()\n",
    "    values = [v for v in values if not pd.isna(v)]\n",
    "    overall_col2values[col] = values\n",
    "    print(f'Overall\\t\\tColumn: {col}\\t\\t# of values: {len(values)}')"
   ]
  },
  {
   "cell_type": "markdown",
   "metadata": {},
   "source": [
    "## Agglomerative\n",
    "Clustering the actions like this would take about 30 minutes"
   ]
  },
  {
   "cell_type": "code",
   "execution_count": 25,
   "metadata": {},
   "outputs": [],
   "source": [
    "# range_n_clusters = list(range(100, 1000, 100)) + list(range(1000, 5001, 500))\n",
    "# range_n_clusters_sparse = list(range(500, 5001, 500))\n",
    "# col2range_n = {\n",
    "#     'agent_norm_clean': range_n_clusters,\n",
    "#     'action_or_event_norm_clean': range_n_clusters_sparse,\n",
    "#     'object_norm_clean': range_n_clusters,\n",
    "#     'narrative_clean': range_n_clusters_sparse,\n",
    "# }\n",
    "\n",
    "# clustering_results = {\n",
    "#     'dataset': [],\n",
    "#     'col': [],\n",
    "#     'n_clusters': [],\n",
    "#     'ss': [],\n",
    "#     'labels': [],\n",
    "# }\n",
    "# for col, values in overall_col2values.items():\n",
    "#     print('Starting:', col)\n",
    "#     embeddings = model.encode(values, show_progress_bar=True)\n",
    "\n",
    "#     # Reduce embedding dimension to speed up distance computation\n",
    "#     pca = PCA(n_components=100, random_state=0)\n",
    "#     embeddings = pca.fit_transform(embeddings)\n",
    "\n",
    "#     # Compute cosine distance matrix (1 - similarity)\n",
    "#     sim_matrix = cosine_similarity(embeddings)\n",
    "#     sim_matrix = np.clip(sim_matrix, -1, 1)  # Clip to [-1, 1] to correct float approximations\n",
    "#     dist_matrix = 1 - sim_matrix\n",
    "\n",
    "#     silhouette_scores = []\n",
    "#     range_n = col2range_n[col]\n",
    "#     for n_clusters in tqdm(range_n):\n",
    "#         if n_clusters > len(values):\n",
    "#             # No point in clustering with more clusters than samples\n",
    "#             continue\n",
    "#         clustering = AgglomerativeClustering(\n",
    "#             n_clusters=n_clusters,\n",
    "#             metric='precomputed',\n",
    "#             linkage='complete',\n",
    "#         )\n",
    "#         cluster_labels = clustering.fit_predict(dist_matrix)\n",
    "#         score = silhouette_score(dist_matrix, cluster_labels, metric=\"precomputed\")\n",
    "\n",
    "#         clustering_results['dataset'].append('overall')\n",
    "#         clustering_results['col'].append(col)\n",
    "#         clustering_results['n_clusters'].append(n_clusters)\n",
    "#         clustering_results['ss'].append(score)\n",
    "#         clustering_results['labels'].append(cluster_labels)\n",
    "\n",
    "#         print(f\"Clusters: {n_clusters}, Silhouette Score: {score:.4f}\")\n",
    "    \n",
    "# df_clustering_results = pd.DataFrame(clustering_results)\n",
    "# fname = './data/scoring/clustering_scores_agglomerative.xlsx'\n",
    "# df_clustering_results.to_excel(fname, index=False)\n",
    "# print('Wrote to:', fname)"
   ]
  },
  {
   "cell_type": "markdown",
   "metadata": {},
   "source": [
    "## KMeans\n",
    "Silhouette scores are wayyyy lower for KMeans than Agglomerative"
   ]
  },
  {
   "cell_type": "code",
   "execution_count": 26,
   "metadata": {},
   "outputs": [],
   "source": [
    "# range_n_clusters = list(range(100, 1000, 100)) + list(range(1000, 5001, 500))\n",
    "\n",
    "# clustering_results = {\n",
    "#     'dataset': [],\n",
    "#     'col': [],\n",
    "#     'n_clusters': [],\n",
    "#     'ss': [],\n",
    "#     'labels': [],\n",
    "# }\n",
    "# for col, values in overall_col2values.items():\n",
    "#     print('Starting:', col)\n",
    "#     embeddings = model.encode(values, show_progress_bar=True)\n",
    "\n",
    "#     # Reduce embedding dimension to speed up distance computation\n",
    "#     pca = PCA(n_components=100, random_state=0)\n",
    "#     embeddings = pca.fit_transform(embeddings)\n",
    "\n",
    "#     # # Compute cosine distance matrix (1 - similarity)\n",
    "#     # sim_matrix = cosine_similarity(embeddings)\n",
    "#     # sim_matrix = np.clip(sim_matrix, -1, 1)  # Clip to [-1, 1] to correct float approximations\n",
    "#     # dist_matrix = 1 - sim_matrix\n",
    "\n",
    "#     silhouette_scores = []\n",
    "#     for n_clusters in tqdm(range_n_clusters):\n",
    "#         if n_clusters > len(values):\n",
    "#             # No point in clustering with more clusters than samples\n",
    "#             continue\n",
    "#         clustering = MiniBatchKMeans(\n",
    "#             n_clusters=n_clusters,\n",
    "#             batch_size=2048,\n",
    "#             random_state=0,\n",
    "#         )\n",
    "#         cluster_labels = clustering.fit_predict(embeddings)\n",
    "#         score = silhouette_score(embeddings, cluster_labels)\n",
    "\n",
    "#         clustering_results['dataset'].append('overall')\n",
    "#         clustering_results['col'].append(col)\n",
    "#         clustering_results['n_clusters'].append(n_clusters)\n",
    "#         clustering_results['ss'].append(score)\n",
    "#         clustering_results['labels'].append(cluster_labels)\n",
    "\n",
    "#         print(f\"Clusters: {n_clusters}, Silhouette Score: {score:.4f}\")\n",
    "    \n",
    "# df_clustering_results = pd.DataFrame(clustering_results)\n",
    "# fname = './data/scoring/clustering_scores_kmeans.xlsx'\n",
    "# df_clustering_results.to_excel(fname, index=False)\n",
    "# print('Wrote to:', fname)"
   ]
  },
  {
   "cell_type": "markdown",
   "metadata": {},
   "source": [
    "## Plot"
   ]
  },
  {
   "cell_type": "markdown",
   "metadata": {},
   "source": [
    "### KMeans"
   ]
  },
  {
   "cell_type": "code",
   "execution_count": 36,
   "metadata": {},
   "outputs": [
    {
     "name": "stdout",
     "output_type": "stream",
     "text": [
      "(132, 5)\n"
     ]
    },
    {
     "data": {
      "text/html": [
       "<div>\n",
       "<style scoped>\n",
       "    .dataframe tbody tr th:only-of-type {\n",
       "        vertical-align: middle;\n",
       "    }\n",
       "\n",
       "    .dataframe tbody tr th {\n",
       "        vertical-align: top;\n",
       "    }\n",
       "\n",
       "    .dataframe thead th {\n",
       "        text-align: right;\n",
       "    }\n",
       "</style>\n",
       "<table border=\"1\" class=\"dataframe\">\n",
       "  <thead>\n",
       "    <tr style=\"text-align: right;\">\n",
       "      <th></th>\n",
       "      <th>dataset</th>\n",
       "      <th>col</th>\n",
       "      <th>n_clusters</th>\n",
       "      <th>ss</th>\n",
       "      <th>labels</th>\n",
       "    </tr>\n",
       "  </thead>\n",
       "  <tbody>\n",
       "    <tr>\n",
       "      <th>0</th>\n",
       "      <td>overall</td>\n",
       "      <td>agent_norm_clean</td>\n",
       "      <td>100</td>\n",
       "      <td>0.054064</td>\n",
       "      <td>[ 7 92 24 ... 31 74 22]</td>\n",
       "    </tr>\n",
       "    <tr>\n",
       "      <th>1</th>\n",
       "      <td>overall</td>\n",
       "      <td>agent_norm_clean</td>\n",
       "      <td>200</td>\n",
       "      <td>0.049721</td>\n",
       "      <td>[ 80 117  95 ... 163 182 144]</td>\n",
       "    </tr>\n",
       "    <tr>\n",
       "      <th>2</th>\n",
       "      <td>overall</td>\n",
       "      <td>agent_norm_clean</td>\n",
       "      <td>300</td>\n",
       "      <td>0.046067</td>\n",
       "      <td>[225 117  95 ... 163 107 285]</td>\n",
       "    </tr>\n",
       "  </tbody>\n",
       "</table>\n",
       "</div>"
      ],
      "text/plain": [
       "   dataset               col  n_clusters        ss  \\\n",
       "0  overall  agent_norm_clean         100  0.054064   \n",
       "1  overall  agent_norm_clean         200  0.049721   \n",
       "2  overall  agent_norm_clean         300  0.046067   \n",
       "\n",
       "                          labels  \n",
       "0        [ 7 92 24 ... 31 74 22]  \n",
       "1  [ 80 117  95 ... 163 182 144]  \n",
       "2  [225 117  95 ... 163 107 285]  "
      ]
     },
     "execution_count": 36,
     "metadata": {},
     "output_type": "execute_result"
    }
   ],
   "source": [
    "fnames = [\n",
    "    './data/scoring/clustering_scores_kmeans_all.xlsx',\n",
    "]\n",
    "dfs = []\n",
    "for fname in fnames:\n",
    "    dfs.append(pd.read_excel(fname))\n",
    "df_clustering_results = pd.concat(dfs).reset_index(drop=True)\n",
    "print(df_clustering_results.shape)\n",
    "df_clustering_results[:3]"
   ]
  },
  {
   "cell_type": "code",
   "execution_count": 37,
   "metadata": {},
   "outputs": [
    {
     "data": {
      "image/png": "[encoded data removed]",
      "text/plain": [
       "<Figure size 800x800 with 4 Axes>"
      ]
     },
     "metadata": {},
     "output_type": "display_data"
    }
   ],
   "source": [
    "# Plot results\n",
    "g = sns.FacetGrid(\n",
    "    df_clustering_results,\n",
    "    col=\"col\", col_wrap=2,\n",
    "    sharey=False, sharex=False, height=4\n",
    ")\n",
    "g.map_dataframe(\n",
    "    sns.lineplot, x=\"n_clusters\", y=\"ss\", marker=\"o\"\n",
    ")\n",
    "for ax in g.axes.flatten():\n",
    "    ax.grid(True)\n",
    "\n",
    "plt.suptitle('KMeans Clustering')\n",
    "\n",
    "# Add titles and labels\n",
    "g.set_axis_labels(\"Number of Clusters\", \"Silhouette Score\")\n",
    "g.set_titles(col_template=\"{col_name}\")\n",
    "g.tight_layout()\n",
    "\n",
    "# plt.savefig('./assets/overall_clustering_scores_kmeans.png')\n",
    "\n",
    "plt.show()"
   ]
  },
  {
   "cell_type": "markdown",
   "metadata": {},
   "source": [
    "### Agglomerative"
   ]
  },
  {
   "cell_type": "code",
   "execution_count": 57,
   "metadata": {},
   "outputs": [
    {
     "name": "stdout",
     "output_type": "stream",
     "text": [
      "(170, 5)\n"
     ]
    },
    {
     "data": {
      "text/html": [
       "<div>\n",
       "<style scoped>\n",
       "    .dataframe tbody tr th:only-of-type {\n",
       "        vertical-align: middle;\n",
       "    }\n",
       "\n",
       "    .dataframe tbody tr th {\n",
       "        vertical-align: top;\n",
       "    }\n",
       "\n",
       "    .dataframe thead th {\n",
       "        text-align: right;\n",
       "    }\n",
       "</style>\n",
       "<table border=\"1\" class=\"dataframe\">\n",
       "  <thead>\n",
       "    <tr style=\"text-align: right;\">\n",
       "      <th></th>\n",
       "      <th>dataset</th>\n",
       "      <th>col</th>\n",
       "      <th>n_clusters</th>\n",
       "      <th>ss</th>\n",
       "      <th>labels</th>\n",
       "    </tr>\n",
       "  </thead>\n",
       "  <tbody>\n",
       "    <tr>\n",
       "      <th>0</th>\n",
       "      <td>overall</td>\n",
       "      <td>agent_norm_clean</td>\n",
       "      <td>100</td>\n",
       "      <td>0.023870</td>\n",
       "      <td>[69 29 48 ... 92 67  0]</td>\n",
       "    </tr>\n",
       "    <tr>\n",
       "      <th>1</th>\n",
       "      <td>overall</td>\n",
       "      <td>agent_norm_clean</td>\n",
       "      <td>200</td>\n",
       "      <td>0.034688</td>\n",
       "      <td>[122 130 197 ... 186  32  55]</td>\n",
       "    </tr>\n",
       "    <tr>\n",
       "      <th>2</th>\n",
       "      <td>overall</td>\n",
       "      <td>agent_norm_clean</td>\n",
       "      <td>300</td>\n",
       "      <td>0.044958</td>\n",
       "      <td>[122 114 197 ...  22   5   2]</td>\n",
       "    </tr>\n",
       "  </tbody>\n",
       "</table>\n",
       "</div>"
      ],
      "text/plain": [
       "   dataset               col  n_clusters        ss  \\\n",
       "0  overall  agent_norm_clean         100  0.023870   \n",
       "1  overall  agent_norm_clean         200  0.034688   \n",
       "2  overall  agent_norm_clean         300  0.044958   \n",
       "\n",
       "                          labels  \n",
       "0        [69 29 48 ... 92 67  0]  \n",
       "1  [122 130 197 ... 186  32  55]  \n",
       "2  [122 114 197 ...  22   5   2]  "
      ]
     },
     "execution_count": 57,
     "metadata": {},
     "output_type": "execute_result"
    }
   ],
   "source": [
    "fnames = [\n",
    "    # './data/scoring/clustering_scores_agglomerative.xlsx',\n",
    "    # './data/scoring/clustering_scores_agglomerative_more.xlsx',\n",
    "    # './data/scoring/clustering_scores_agglomerative_more_v2.xlsx',\n",
    "    # './data/scoring/clustering_scores_agglomerative_more_v3.xlsx',\n",
    "    # Rerunning _all version which replaces all above\n",
    "    './data/scoring/clustering_scores_agglomerative_all.xlsx',\n",
    "    './data/scoring/clustering_scores_agglomerative_agent_object_combined.xlsx'\n",
    "]\n",
    "dfs = []\n",
    "for fname in fnames:\n",
    "    dfs.append(pd.read_excel(fname))\n",
    "df_clustering_results = pd.concat(dfs).reset_index(drop=True)\n",
    "print(df_clustering_results.shape)\n",
    "df_clustering_results[:3]"
   ]
  },
  {
   "cell_type": "code",
   "execution_count": 59,
   "metadata": {},
   "outputs": [
    {
     "data": {
      "image/png": "[encoded data removed]",
      "text/plain": [
       "<Figure size 1200x800 with 5 Axes>"
      ]
     },
     "metadata": {},
     "output_type": "display_data"
    }
   ],
   "source": [
    "# Plot results\n",
    "g = sns.FacetGrid(\n",
    "    df_clustering_results,\n",
    "    col=\"col\", col_wrap=3,\n",
    "    sharey=False, sharex=False, height=4\n",
    ")\n",
    "g.map_dataframe(\n",
    "    sns.lineplot, x=\"n_clusters\", y=\"ss\", marker=\"o\"\n",
    ")\n",
    "for ax in g.axes.flatten():\n",
    "    ax.grid(True)\n",
    "\n",
    "plt.suptitle('Agglomerative Clustering')\n",
    "\n",
    "# Add titles and labels\n",
    "g.set_axis_labels(\"Number of Clusters\", \"Silhouette Score\")\n",
    "g.set_titles(col_template=\"{col_name}\")\n",
    "g.tight_layout()\n",
    "\n",
    "# plt.savefig('./assets/overall_clustering_scores_v2.png')\n",
    "\n",
    "plt.show()"
   ]
  },
  {
   "cell_type": "code",
   "execution_count": 45,
   "metadata": {},
   "outputs": [],
   "source": [
    "# df_clustering_results[\n",
    "#     df_clustering_results['col'] == 'narrative_clean'\n",
    "# ]"
   ]
  },
  {
   "cell_type": "markdown",
   "metadata": {},
   "source": [
    "## Final clustering\n",
    "Take best n_clusters (via the elbow test) and create clustering for the columns of interest."
   ]
  },
  {
   "cell_type": "code",
   "execution_count": null,
   "metadata": {},
   "outputs": [],
   "source": [
    "# Mapping from column name to best number of clusters\n",
    "col2n_clusters = {\n",
    "    'agent_norm_clean': 2_500,\n",
    "    'action_or_event_norm_clean': 10_000,\n",
    "    'object_norm_clean': 5_500,\n",
    "    'narrative_clean': 13_000,\n",
    "}"
   ]
  },
  {
   "cell_type": "code",
   "execution_count": 33,
   "metadata": {},
   "outputs": [
    {
     "name": "stdout",
     "output_type": "stream",
     "text": [
      "Starting: agent_norm_clean\n"
     ]
    },
    {
     "name": "stderr",
     "output_type": "stream",
     "text": [
      "Batches: 100%|██████████| 319/319 [00:05<00:00, 55.91it/s]\n"
     ]
    },
    {
     "name": "stdout",
     "output_type": "stream",
     "text": [
      "Clusters: 3000, Silhouette Score: 0.1744\n",
      "Starting: action_or_event_norm_clean\n"
     ]
    },
    {
     "name": "stderr",
     "output_type": "stream",
     "text": [
      "Batches: 100%|██████████| 1567/1567 [00:23<00:00, 67.17it/s]\n"
     ]
    },
    {
     "name": "stdout",
     "output_type": "stream",
     "text": [
      "Clusters: 10000, Silhouette Score: 0.1545\n",
      "Starting: object_norm_clean\n"
     ]
    },
    {
     "name": "stderr",
     "output_type": "stream",
     "text": [
      "Batches: 100%|██████████| 697/697 [00:11<00:00, 59.08it/s]\n"
     ]
    },
    {
     "name": "stdout",
     "output_type": "stream",
     "text": [
      "Clusters: 5000, Silhouette Score: 0.1931\n",
      "Starting: narrative_clean\n"
     ]
    },
    {
     "name": "stderr",
     "output_type": "stream",
     "text": [
      "Batches: 100%|██████████| 2541/2541 [00:58<00:00, 43.66it/s]\n"
     ]
    },
    {
     "ename": "",
     "evalue": "",
     "output_type": "error",
     "traceback": [
      "\u001b[1;31mThe Kernel crashed while executing code in the current cell or a previous cell. \n",
      "\u001b[1;31mPlease review the code in the cell(s) to identify a possible cause of the failure. \n",
      "\u001b[1;31mClick <a href='https://aka.ms/vscodeJupyterKernelCrash'>here</a> for more info. \n",
      "\u001b[1;31mView Jupyter <a href='command:jupyter.viewOutput'>log</a> for further details."
     ]
    }
   ],
   "source": [
    "clustering_results = {\n",
    "    'dataset': [],\n",
    "    'col': [],\n",
    "    'n_clusters': [],\n",
    "    'ss': [],\n",
    "    'labels': [],\n",
    "}\n",
    "for col, values in overall_col2values.items():\n",
    "    print('Starting:', col)\n",
    "    embeddings = model.encode(values, show_progress_bar=True)\n",
    "\n",
    "    # Reduce embedding dimension to speed up distance computation\n",
    "    pca = PCA(n_components=100, random_state=0)\n",
    "    embeddings = pca.fit_transform(embeddings)\n",
    "\n",
    "    # Compute cosine distance matrix (1 - similarity)\n",
    "    sim_matrix = cosine_similarity(embeddings)\n",
    "    sim_matrix = np.clip(sim_matrix, -1, 1)  # Clip to [-1, 1] to correct float approximations\n",
    "    dist_matrix = 1 - sim_matrix\n",
    "\n",
    "    silhouette_scores = []\n",
    "    n_clusters = col2n_clusters[col]\n",
    "    if n_clusters > len(values):\n",
    "        # No point in clustering with more clusters than samples\n",
    "        raise ValueError(f'n_clusters: {n_clusters} > # of samples: {len(values)}')\n",
    "    clustering = AgglomerativeClustering(\n",
    "        n_clusters=n_clusters,\n",
    "        metric='precomputed',\n",
    "        linkage='complete',\n",
    "    )\n",
    "    cluster_labels = clustering.fit_predict(dist_matrix)\n",
    "    score = silhouette_score(dist_matrix, cluster_labels, metric=\"precomputed\")\n",
    "\n",
    "    clustering_results['dataset'].append('overall')\n",
    "    clustering_results['col'].append(col)\n",
    "    clustering_results['n_clusters'].append(n_clusters)\n",
    "    clustering_results['ss'].append(score)\n",
    "    clustering_results['labels'].append(cluster_labels)\n",
    "\n",
    "    print(f\"Clusters: {n_clusters}, Silhouette Score: {score:.4f}\")\n",
    "\n",
    "df_clustering_results = pd.DataFrame(clustering_results)\n",
    "fname = './data/scoring/clustering_scores_agglomerative_best.xlsx'\n",
    "df_clustering_results.to_excel(fname, index=False)\n",
    "print('Wrote to:', fname)"
   ]
  },
  {
   "cell_type": "code",
   "execution_count": null,
   "metadata": {},
   "outputs": [],
   "source": []
  }
 ],
 "metadata": {
  "kernelspec": {
   "display_name": "complexdata-kernel",
   "language": "python",
   "name": "complexdata-kernel"
  },
  "language_info": {
   "codemirror_mode": {
    "name": "ipython",
    "version": 3
   },
   "file_extension": ".py",
   "mimetype": "text/x-python",
   "name": "python",
   "nbconvert_exporter": "python",
   "pygments_lexer": "ipython3",
   "version": "3.10.8"
  }
 },
 "nbformat": 4,
 "nbformat_minor": 2
}
