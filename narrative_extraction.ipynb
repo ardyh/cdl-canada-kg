{
 "cells": [
  {
   "cell_type": "markdown",
   "metadata": {},
   "source": [
    "Reading data from ComplexData S3 buckets and getting familiar with structure."
   ]
  },
  {
   "cell_type": "code",
   "execution_count": 1,
   "metadata": {},
   "outputs": [
    {
     "name": "stderr",
     "output_type": "stream",
     "text": [
      "/nas/ckgfs/users/eboxer/complexdata/env/lib/python3.10/site-packages/tqdm/auto.py:21: TqdmWarning: IProgress not found. Please update jupyter and ipywidgets. See https://ipywidgets.readthedocs.io/en/stable/user_install.html\n",
      "  from .autonotebook import tqdm as notebook_tqdm\n"
     ]
    }
   ],
   "source": [
    "import pandas as pd\n",
    "import numpy as np\n",
    "import matplotlib.pyplot as plt\n",
    "\n",
    "import io\n",
    "import json\n",
    "import os\n",
    "import pickle\n",
    "import re\n",
    "import uuid\n",
    "\n",
    "from itertools import product \n",
    "\n",
    "import boto3\n",
    "\n",
    "from isanlp_rst.parser import Parser\n",
    "from keybert import KeyBERT\n",
    "\n",
    "import openai\n",
    "from openai import OpenAI\n",
    "from pydantic import BaseModel\n",
    "\n",
    "from typing import List\n",
    "\n",
    "from dotenv import load_dotenv\n",
    "from tqdm import tqdm"
   ]
  },
  {
   "cell_type": "markdown",
   "metadata": {},
   "source": [
    "## Load credentials"
   ]
  },
  {
   "cell_type": "code",
   "execution_count": 3,
   "metadata": {},
   "outputs": [
    {
     "data": {
      "text/plain": [
       "True"
      ]
     },
     "execution_count": 3,
     "metadata": {},
     "output_type": "execute_result"
    }
   ],
   "source": [
    "load_dotenv('./.env')"
   ]
  },
  {
   "cell_type": "code",
   "execution_count": 4,
   "metadata": {},
   "outputs": [],
   "source": [
    "region_name = os.getenv(\"COMPLEXDATA_DEFAULT_REGION\")\n",
    "aws_access_key_id = os.getenv(\"COMPLEXDATA_S3_ACCESS_KEY_ID\")\n",
    "aws_secret_access_key = os.getenv(\"COMPLEXDATA_S3_SECRET_ACCESS_KEY\")\n",
    "aws_session_token = os.getenv(\"COMPLEXDATA_S3_SESSION_TOKEN\")\n",
    "key_openai = os.getenv('KEY_OPENAI')"
   ]
  },
  {
   "cell_type": "code",
   "execution_count": 5,
   "metadata": {},
   "outputs": [],
   "source": [
    "s3_client = boto3.client(\n",
    "    's3',\n",
    "    region_name=region_name,\n",
    "    aws_access_key_id=aws_access_key_id,\n",
    "    aws_secret_access_key=aws_secret_access_key,\n",
    "    aws_session_token=aws_session_token,\n",
    ")"
   ]
  },
  {
   "cell_type": "markdown",
   "metadata": {},
   "source": [
    "## TODO Query"
   ]
  },
  {
   "cell_type": "code",
   "execution_count": 6,
   "metadata": {},
   "outputs": [
    {
     "ename": "ClientError",
     "evalue": "An error occurred (InvalidToken) when calling the ListBuckets operation: The provided token is malformed or otherwise invalid.",
     "output_type": "error",
     "traceback": [
      "\u001b[0;31m---------------------------------------------------------------------------\u001b[0m",
      "\u001b[0;31mClientError\u001b[0m                               Traceback (most recent call last)",
      "Cell \u001b[0;32mIn[6], line 2\u001b[0m\n\u001b[1;32m      1\u001b[0m \u001b[38;5;66;03m# Example: List all buckets\u001b[39;00m\n\u001b[0;32m----> 2\u001b[0m buckets \u001b[38;5;241m=\u001b[39m \u001b[43ms3_client\u001b[49m\u001b[38;5;241;43m.\u001b[39;49m\u001b[43mlist_buckets\u001b[49m\u001b[43m(\u001b[49m\u001b[43m)\u001b[49m\n\u001b[1;32m      3\u001b[0m bucket_names \u001b[38;5;241m=\u001b[39m []\n\u001b[1;32m      4\u001b[0m \u001b[38;5;28mprint\u001b[39m(\u001b[38;5;124m\"\u001b[39m\u001b[38;5;124mBuckets:\u001b[39m\u001b[38;5;124m\"\u001b[39m)\n",
      "File \u001b[0;32m/nas/ckgfs/users/eboxer/complexdata/env/lib/python3.10/site-packages/botocore/client.py:570\u001b[0m, in \u001b[0;36mClientCreator._create_api_method.<locals>._api_call\u001b[0;34m(self, *args, **kwargs)\u001b[0m\n\u001b[1;32m    566\u001b[0m     \u001b[38;5;28;01mraise\u001b[39;00m \u001b[38;5;167;01mTypeError\u001b[39;00m(\n\u001b[1;32m    567\u001b[0m         \u001b[38;5;124mf\u001b[39m\u001b[38;5;124m\"\u001b[39m\u001b[38;5;132;01m{\u001b[39;00mpy_operation_name\u001b[38;5;132;01m}\u001b[39;00m\u001b[38;5;124m() only accepts keyword arguments.\u001b[39m\u001b[38;5;124m\"\u001b[39m\n\u001b[1;32m    568\u001b[0m     )\n\u001b[1;32m    569\u001b[0m \u001b[38;5;66;03m# The \"self\" in this scope is referring to the BaseClient.\u001b[39;00m\n\u001b[0;32m--> 570\u001b[0m \u001b[38;5;28;01mreturn\u001b[39;00m \u001b[38;5;28;43mself\u001b[39;49m\u001b[38;5;241;43m.\u001b[39;49m\u001b[43m_make_api_call\u001b[49m\u001b[43m(\u001b[49m\u001b[43moperation_name\u001b[49m\u001b[43m,\u001b[49m\u001b[43m \u001b[49m\u001b[43mkwargs\u001b[49m\u001b[43m)\u001b[49m\n",
      "File \u001b[0;32m/nas/ckgfs/users/eboxer/complexdata/env/lib/python3.10/site-packages/botocore/context.py:124\u001b[0m, in \u001b[0;36mwith_current_context.<locals>.decorator.<locals>.wrapper\u001b[0;34m(*args, **kwargs)\u001b[0m\n\u001b[1;32m    122\u001b[0m \u001b[38;5;28;01mif\u001b[39;00m hook:\n\u001b[1;32m    123\u001b[0m     hook()\n\u001b[0;32m--> 124\u001b[0m \u001b[38;5;28;01mreturn\u001b[39;00m \u001b[43mfunc\u001b[49m\u001b[43m(\u001b[49m\u001b[38;5;241;43m*\u001b[39;49m\u001b[43margs\u001b[49m\u001b[43m,\u001b[49m\u001b[43m \u001b[49m\u001b[38;5;241;43m*\u001b[39;49m\u001b[38;5;241;43m*\u001b[39;49m\u001b[43mkwargs\u001b[49m\u001b[43m)\u001b[49m\n",
      "File \u001b[0;32m/nas/ckgfs/users/eboxer/complexdata/env/lib/python3.10/site-packages/botocore/client.py:1031\u001b[0m, in \u001b[0;36mBaseClient._make_api_call\u001b[0;34m(self, operation_name, api_params)\u001b[0m\n\u001b[1;32m   1027\u001b[0m     error_code \u001b[38;5;241m=\u001b[39m error_info\u001b[38;5;241m.\u001b[39mget(\u001b[38;5;124m\"\u001b[39m\u001b[38;5;124mQueryErrorCode\u001b[39m\u001b[38;5;124m\"\u001b[39m) \u001b[38;5;129;01mor\u001b[39;00m error_info\u001b[38;5;241m.\u001b[39mget(\n\u001b[1;32m   1028\u001b[0m         \u001b[38;5;124m\"\u001b[39m\u001b[38;5;124mCode\u001b[39m\u001b[38;5;124m\"\u001b[39m\n\u001b[1;32m   1029\u001b[0m     )\n\u001b[1;32m   1030\u001b[0m     error_class \u001b[38;5;241m=\u001b[39m \u001b[38;5;28mself\u001b[39m\u001b[38;5;241m.\u001b[39mexceptions\u001b[38;5;241m.\u001b[39mfrom_code(error_code)\n\u001b[0;32m-> 1031\u001b[0m     \u001b[38;5;28;01mraise\u001b[39;00m error_class(parsed_response, operation_name)\n\u001b[1;32m   1032\u001b[0m \u001b[38;5;28;01melse\u001b[39;00m:\n\u001b[1;32m   1033\u001b[0m     \u001b[38;5;28;01mreturn\u001b[39;00m parsed_response\n",
      "\u001b[0;31mClientError\u001b[0m: An error occurred (InvalidToken) when calling the ListBuckets operation: The provided token is malformed or otherwise invalid."
     ]
    }
   ],
   "source": [
    "# Example: List all buckets\n",
    "buckets = s3_client.list_buckets()\n",
    "bucket_names = []\n",
    "print(\"Buckets:\")\n",
    "for bucket in buckets.get('Buckets', []):\n",
    "    print(f\" - {bucket['Name']}\")\n",
    "    bucket_names.append(bucket['Name'])"
   ]
  },
  {
   "cell_type": "code",
   "execution_count": 12,
   "metadata": {},
   "outputs": [
    {
     "ename": "ClientError",
     "evalue": "An error occurred (InvalidToken) when calling the GetObject operation: The provided token is malformed or otherwise invalid.",
     "output_type": "error",
     "traceback": [
      "\u001b[0;31m---------------------------------------------------------------------------\u001b[0m",
      "\u001b[0;31mClientError\u001b[0m                               Traceback (most recent call last)",
      "Cell \u001b[0;32mIn[12], line 2\u001b[0m\n\u001b[1;32m      1\u001b[0m key \u001b[38;5;241m=\u001b[39m \u001b[38;5;124m'\u001b[39m\u001b[38;5;124m2025/03/01/00/x-1-2025-03-01-00-01-57-ff8f6d7a-957b-4377-b2d7-2ca7bacc2408\u001b[39m\u001b[38;5;124m'\u001b[39m\n\u001b[0;32m----> 2\u001b[0m obj \u001b[38;5;241m=\u001b[39m \u001b[43ms3_client\u001b[49m\u001b[38;5;241;43m.\u001b[39;49m\u001b[43mget_object\u001b[49m\u001b[43m(\u001b[49m\u001b[43mBucket\u001b[49m\u001b[38;5;241;43m=\u001b[39;49m\u001b[38;5;124;43m'\u001b[39;49m\u001b[38;5;124;43mx-misinfo\u001b[39;49m\u001b[38;5;124;43m'\u001b[39;49m\u001b[43m,\u001b[49m\u001b[43m \u001b[49m\u001b[43mKey\u001b[49m\u001b[38;5;241;43m=\u001b[39;49m\u001b[43mkey\u001b[49m\u001b[43m)\u001b[49m\n\u001b[1;32m      3\u001b[0m obj_bytes \u001b[38;5;241m=\u001b[39m obj[\u001b[38;5;124m'\u001b[39m\u001b[38;5;124mBody\u001b[39m\u001b[38;5;124m'\u001b[39m]\u001b[38;5;241m.\u001b[39mread()\n\u001b[1;32m      4\u001b[0m data \u001b[38;5;241m=\u001b[39m obj_bytes\u001b[38;5;241m.\u001b[39mdecode(\u001b[38;5;124m'\u001b[39m\u001b[38;5;124mutf-8\u001b[39m\u001b[38;5;124m'\u001b[39m)\n",
      "File \u001b[0;32m/nas/ckgfs/users/eboxer/complexdata/env/lib/python3.10/site-packages/botocore/client.py:570\u001b[0m, in \u001b[0;36mClientCreator._create_api_method.<locals>._api_call\u001b[0;34m(self, *args, **kwargs)\u001b[0m\n\u001b[1;32m    566\u001b[0m     \u001b[38;5;28;01mraise\u001b[39;00m \u001b[38;5;167;01mTypeError\u001b[39;00m(\n\u001b[1;32m    567\u001b[0m         \u001b[38;5;124mf\u001b[39m\u001b[38;5;124m\"\u001b[39m\u001b[38;5;132;01m{\u001b[39;00mpy_operation_name\u001b[38;5;132;01m}\u001b[39;00m\u001b[38;5;124m() only accepts keyword arguments.\u001b[39m\u001b[38;5;124m\"\u001b[39m\n\u001b[1;32m    568\u001b[0m     )\n\u001b[1;32m    569\u001b[0m \u001b[38;5;66;03m# The \"self\" in this scope is referring to the BaseClient.\u001b[39;00m\n\u001b[0;32m--> 570\u001b[0m \u001b[38;5;28;01mreturn\u001b[39;00m \u001b[38;5;28;43mself\u001b[39;49m\u001b[38;5;241;43m.\u001b[39;49m\u001b[43m_make_api_call\u001b[49m\u001b[43m(\u001b[49m\u001b[43moperation_name\u001b[49m\u001b[43m,\u001b[49m\u001b[43m \u001b[49m\u001b[43mkwargs\u001b[49m\u001b[43m)\u001b[49m\n",
      "File \u001b[0;32m/nas/ckgfs/users/eboxer/complexdata/env/lib/python3.10/site-packages/botocore/context.py:124\u001b[0m, in \u001b[0;36mwith_current_context.<locals>.decorator.<locals>.wrapper\u001b[0;34m(*args, **kwargs)\u001b[0m\n\u001b[1;32m    122\u001b[0m \u001b[38;5;28;01mif\u001b[39;00m hook:\n\u001b[1;32m    123\u001b[0m     hook()\n\u001b[0;32m--> 124\u001b[0m \u001b[38;5;28;01mreturn\u001b[39;00m \u001b[43mfunc\u001b[49m\u001b[43m(\u001b[49m\u001b[38;5;241;43m*\u001b[39;49m\u001b[43margs\u001b[49m\u001b[43m,\u001b[49m\u001b[43m \u001b[49m\u001b[38;5;241;43m*\u001b[39;49m\u001b[38;5;241;43m*\u001b[39;49m\u001b[43mkwargs\u001b[49m\u001b[43m)\u001b[49m\n",
      "File \u001b[0;32m/nas/ckgfs/users/eboxer/complexdata/env/lib/python3.10/site-packages/botocore/client.py:1031\u001b[0m, in \u001b[0;36mBaseClient._make_api_call\u001b[0;34m(self, operation_name, api_params)\u001b[0m\n\u001b[1;32m   1027\u001b[0m     error_code \u001b[38;5;241m=\u001b[39m error_info\u001b[38;5;241m.\u001b[39mget(\u001b[38;5;124m\"\u001b[39m\u001b[38;5;124mQueryErrorCode\u001b[39m\u001b[38;5;124m\"\u001b[39m) \u001b[38;5;129;01mor\u001b[39;00m error_info\u001b[38;5;241m.\u001b[39mget(\n\u001b[1;32m   1028\u001b[0m         \u001b[38;5;124m\"\u001b[39m\u001b[38;5;124mCode\u001b[39m\u001b[38;5;124m\"\u001b[39m\n\u001b[1;32m   1029\u001b[0m     )\n\u001b[1;32m   1030\u001b[0m     error_class \u001b[38;5;241m=\u001b[39m \u001b[38;5;28mself\u001b[39m\u001b[38;5;241m.\u001b[39mexceptions\u001b[38;5;241m.\u001b[39mfrom_code(error_code)\n\u001b[0;32m-> 1031\u001b[0m     \u001b[38;5;28;01mraise\u001b[39;00m error_class(parsed_response, operation_name)\n\u001b[1;32m   1032\u001b[0m \u001b[38;5;28;01melse\u001b[39;00m:\n\u001b[1;32m   1033\u001b[0m     \u001b[38;5;28;01mreturn\u001b[39;00m parsed_response\n",
      "\u001b[0;31mClientError\u001b[0m: An error occurred (InvalidToken) when calling the GetObject operation: The provided token is malformed or otherwise invalid."
     ]
    }
   ],
   "source": [
    "key = '2025/03/01/00/x-1-2025-03-01-00-01-57-ff8f6d7a-957b-4377-b2d7-2ca7bacc2408'\n",
    "obj = s3_client.get_object(Bucket='x-misinfo', Key=key)\n",
    "obj_bytes = obj['Body'].read()\n",
    "data = obj_bytes.decode('utf-8')\n",
    "print(f\"Data from {key}:\\n{data}\\n\")"
   ]
  },
  {
   "cell_type": "markdown",
   "metadata": {},
   "source": [
    "## Load 1-day worth of data from BlueSky, Reddit, and X"
   ]
  },
  {
   "cell_type": "code",
   "execution_count": 44,
   "metadata": {},
   "outputs": [
    {
     "name": "stderr",
     "output_type": "stream",
     "text": [
      "100%|██████████| 667/667 [05:13<00:00,  2.13it/s]\n"
     ]
    },
    {
     "name": "stdout",
     "output_type": "stream",
     "text": [
      "Finished: ('2025', '03', '01', '00')\n",
      "Bucket: bluesky-misinfo; # of files: 667\n"
     ]
    },
    {
     "name": "stderr",
     "output_type": "stream",
     "text": [
      "100%|██████████| 242/242 [00:41<00:00,  5.87it/s]\n"
     ]
    },
    {
     "name": "stdout",
     "output_type": "stream",
     "text": [
      "Finished: ('2025', '03', '01', '00')\n",
      "Bucket: reddit-misinfo; # of files: 242\n"
     ]
    },
    {
     "name": "stderr",
     "output_type": "stream",
     "text": [
      "100%|██████████| 282/282 [01:12<00:00,  3.91it/s]"
     ]
    },
    {
     "name": "stdout",
     "output_type": "stream",
     "text": [
      "Finished: ('2025', '03', '01', '00')\n",
      "Bucket: x-misinfo; # of files: 282\n"
     ]
    },
    {
     "name": "stderr",
     "output_type": "stream",
     "text": [
      "\n"
     ]
    }
   ],
   "source": [
    "# Pull data from specified buckets and dates\n",
    "buckets = [\n",
    "    'bluesky-misinfo',\n",
    "    'reddit-misinfo',\n",
    "    'x-misinfo',\n",
    "]\n",
    "years = ['2025']\n",
    "months = ['03']\n",
    "days = ['01']\n",
    "hours = [\n",
    "    '00', #'01', '02', '03', '04', '05',\n",
    "    # '06', '07', '08', '09', '10', '11',\n",
    "    # '12', '13', '14', '15', '16', '17',\n",
    "    # '18', '19', '20', '21', '22', '23',\n",
    "]\n",
    "\n",
    "bucket2file2data = {}\n",
    "\n",
    "for bucket in buckets:\n",
    "    bucket2file2data[bucket] = {}\n",
    "    for date in product(years, months, days, hours):\n",
    "        dir_path = '/'.join(p)\n",
    "        files = s3_client.list_objects_v2(Bucket=bucket, Prefix=dir_path)\n",
    "        for file in tqdm(files['Contents']):\n",
    "            # Load file\n",
    "            file_key = file['Key']\n",
    "            obj = s3_client.get_object(Bucket=bucket, Key=file_key)\n",
    "            obj_bytes = obj['Body'].read()\n",
    "            data = obj_bytes.decode('utf-8')\n",
    "\n",
    "            bucket2file2data[bucket][file_key] = data\n",
    "        print(f'Finished: {date}')\n",
    "    print(f'Bucket: {bucket}; # of files: {len(bucket2file2data[bucket])}')"
   ]
  },
  {
   "cell_type": "code",
   "execution_count": 20,
   "metadata": {},
   "outputs": [],
   "source": [
    "def escape_newlines_in_json(json_str):\n",
    "    return json_str.replace('\\n', '\\\\n')\n",
    "\n",
    "def load_jsonl_str(json_str):\n",
    "    # Split into newlines and load as list of Python dicts\n",
    "    json_chunks = re.split(r'\\n(?=\\{)', json_str.strip())\n",
    "\n",
    "    data_objects = []\n",
    "    for chunk in json_chunks:\n",
    "        escaped_chunk = escape_newlines_in_json(chunk)\n",
    "        try:\n",
    "            obj = json.loads(escaped_chunk)\n",
    "            data_objects.append(obj)\n",
    "        except json.JSONDecodeError as e:\n",
    "            print(\"Error decoding a chunk:\", e)\n",
    "    \n",
    "    return data_objects"
   ]
  },
  {
   "cell_type": "code",
   "execution_count": 77,
   "metadata": {},
   "outputs": [
    {
     "name": "stdout",
     "output_type": "stream",
     "text": [
      "(242, 3)\n"
     ]
    }
   ],
   "source": [
    "# Convert to dataframe\n",
    "bucket = 'reddit-misinfo'\n",
    "df_reddit = pd.DataFrame({\n",
    "    'bucket': [bucket]*len(bucket2file2data[bucket]),\n",
    "    'file': bucket2file2data[bucket].keys(),\n",
    "    'data': [\n",
    "        load_jsonl_str(bucket2file2data[bucket][key])\n",
    "        for key in list(bucket2file2data[bucket].keys())\n",
    "    ]\n",
    "})\n",
    "print(df_reddit.shape)"
   ]
  },
  {
   "cell_type": "code",
   "execution_count": 78,
   "metadata": {},
   "outputs": [
    {
     "name": "stdout",
     "output_type": "stream",
     "text": [
      "(282, 3)\n"
     ]
    }
   ],
   "source": [
    "# Convert to dataframe\n",
    "bucket = 'x-misinfo'\n",
    "df_x = pd.DataFrame({\n",
    "    'bucket': [bucket]*len(bucket2file2data[bucket]),\n",
    "    'file': bucket2file2data[bucket].keys(),\n",
    "    'data': [\n",
    "        load_jsonl_str(bucket2file2data[bucket][key])\n",
    "        for key in list(bucket2file2data[bucket].keys())\n",
    "    ]\n",
    "})\n",
    "print(df_x.shape)"
   ]
  },
  {
   "cell_type": "code",
   "execution_count": 79,
   "metadata": {},
   "outputs": [
    {
     "name": "stdout",
     "output_type": "stream",
     "text": [
      "(667, 3)\n"
     ]
    }
   ],
   "source": [
    "# Convert to dataframe\n",
    "bucket = 'bluesky-misinfo'\n",
    "df_bluesky = pd.DataFrame({\n",
    "    'bucket': [bucket]*len(bucket2file2data[bucket]),\n",
    "    'file': bucket2file2data[bucket].keys(),\n",
    "    'data': [\n",
    "        load_jsonl_str(bucket2file2data[bucket][key])\n",
    "        for key in list(bucket2file2data[bucket].keys())\n",
    "    ]\n",
    "})\n",
    "print(df_bluesky.shape)"
   ]
  },
  {
   "cell_type": "markdown",
   "metadata": {},
   "source": [
    "### Postprocessing"
   ]
  },
  {
   "cell_type": "code",
   "execution_count": 102,
   "metadata": {},
   "outputs": [],
   "source": [
    "pd.set_option('display.max_columns', 50)"
   ]
  },
  {
   "cell_type": "code",
   "execution_count": 95,
   "metadata": {},
   "outputs": [
    {
     "name": "stdout",
     "output_type": "stream",
     "text": [
      "(17274, 49)\n"
     ]
    }
   ],
   "source": [
    "# Explode jsonl and melt data\n",
    "df_exploded = df_x.explode('data').reset_index(drop=True)\n",
    "df_exploded['data_idx'] = df_exploded.groupby(['bucket', 'file']).cumcount()\n",
    "data_norm = pd.json_normalize(df_exploded['data'])\n",
    "df_x_norm = pd.concat([df_exploded.drop(columns=['data']), data_norm], axis=1)\n",
    "print(df_x_norm.shape)"
   ]
  },
  {
   "cell_type": "code",
   "execution_count": 96,
   "metadata": {},
   "outputs": [
    {
     "name": "stdout",
     "output_type": "stream",
     "text": [
      "(47802, 46)\n"
     ]
    }
   ],
   "source": [
    "# Explode jsonl and melt data\n",
    "df_exploded = df_reddit.explode('data').reset_index(drop=True)\n",
    "df_exploded['data_idx'] = df_exploded.groupby(['bucket', 'file']).cumcount()\n",
    "data_norm = pd.json_normalize(df_exploded['data'])\n",
    "df_reddit_norm = pd.concat([df_exploded.drop(columns=['data']), data_norm], axis=1)\n",
    "print(df_reddit_norm.shape)"
   ]
  },
  {
   "cell_type": "code",
   "execution_count": 97,
   "metadata": {},
   "outputs": [
    {
     "name": "stdout",
     "output_type": "stream",
     "text": [
      "(7270126, 271)\n"
     ]
    }
   ],
   "source": [
    "# Explode jsonl and melt data\n",
    "df_exploded = df_bluesky.explode('data').reset_index(drop=True)\n",
    "df_exploded['data_idx'] = df_exploded.groupby(['bucket', 'file']).cumcount()\n",
    "data_norm = pd.json_normalize(df_exploded['data'])\n",
    "df_bluesky_norm = pd.concat([df_exploded.drop(columns=['data']), data_norm], axis=1)\n",
    "print(df_bluesky_norm.shape)"
   ]
  },
  {
   "cell_type": "markdown",
   "metadata": {},
   "source": [
    "### View"
   ]
  },
  {
   "cell_type": "code",
   "execution_count": 104,
   "metadata": {},
   "outputs": [
    {
     "data": {
      "text/plain": [
       "[{'domain': {'id': '10',\n",
       "   'name': 'Person',\n",
       "   'description': 'Named people in the world like Nelson Mandela'},\n",
       "  'entity': {'id': '1052324708752883712',\n",
       "   'name': 'Yashar Ali',\n",
       "   'description': 'Yashar Ali'}},\n",
       " {'domain': {'id': '94',\n",
       "   'name': 'Journalist',\n",
       "   'description': \"A journalist like 'Anderson Cooper'\"},\n",
       "  'entity': {'id': '1052324708752883712',\n",
       "   'name': 'Yashar Ali',\n",
       "   'description': 'Yashar Ali'}},\n",
       " {'domain': {'id': '131',\n",
       "   'name': 'Unified Twitter Taxonomy',\n",
       "   'description': 'A taxonomy of user interests. '},\n",
       "  'entity': {'id': '1046545033657081857',\n",
       "   'name': 'News',\n",
       "   'description': 'News'}},\n",
       " {'domain': {'id': '131',\n",
       "   'name': 'Unified Twitter Taxonomy',\n",
       "   'description': 'A taxonomy of user interests. '},\n",
       "  'entity': {'id': '1052324708752883712',\n",
       "   'name': 'Yashar Ali',\n",
       "   'description': 'Yashar Ali'}},\n",
       " {'domain': {'id': '131',\n",
       "   'name': 'Unified Twitter Taxonomy',\n",
       "   'description': 'A taxonomy of user interests. '},\n",
       "  'entity': {'id': '1074755369530880001',\n",
       "   'name': 'Journalists',\n",
       "   'description': 'Journalism'}}]"
      ]
     },
     "execution_count": 104,
     "metadata": {},
     "output_type": "execute_result"
    }
   ],
   "source": [
    "df_x_norm['data.context_annotations'].iloc[0]"
   ]
  },
  {
   "cell_type": "code",
   "execution_count": 105,
   "metadata": {},
   "outputs": [
    {
     "data": {
      "text/plain": [
       "[{'start': 29,\n",
       "  'end': 37,\n",
       "  'probability': 0.9061,\n",
       "  'type': 'Person',\n",
       "  'normalized_text': 'Netanyahu'}]"
      ]
     },
     "execution_count": 105,
     "metadata": {},
     "output_type": "execute_result"
    }
   ],
   "source": [
    "df_x_norm['data.entities.annotations'].iloc[0]"
   ]
  },
  {
   "cell_type": "code",
   "execution_count": 106,
   "metadata": {},
   "outputs": [
    {
     "data": {
      "text/plain": [
       "'@yashar I was looking to see Netanyahu’s response but I’m not surprised, he has his own crisis going on as well and also the orange man is his friend so never mind.'"
      ]
     },
     "execution_count": 106,
     "metadata": {},
     "output_type": "execute_result"
    }
   ],
   "source": [
    "df_x_norm['data.text'].iloc[0]"
   ]
  },
  {
   "cell_type": "code",
   "execution_count": 109,
   "metadata": {},
   "outputs": [
    {
     "data": {
      "text/plain": [
       "'Amen! Also… I thought I was the only person on the planet whose favourite pizza was Kraft pizza, nice!'"
      ]
     },
     "execution_count": 109,
     "metadata": {},
     "output_type": "execute_result"
    }
   ],
   "source": [
    "df_reddit_norm['body'].iloc[0]"
   ]
  },
  {
   "cell_type": "code",
   "execution_count": 113,
   "metadata": {},
   "outputs": [
    {
     "data": {
      "text/plain": [
       "\"Anyone notice the Kraft Pizza Kits changed their sauce? I can tolerate a lot like rising heating costs, threats of invasion from the USA and paper straws but don't mess with my favorite pizza!\""
      ]
     },
     "execution_count": 113,
     "metadata": {},
     "output_type": "execute_result"
    }
   ],
   "source": [
    "df_reddit_norm[df_reddit_norm['text'].notna()]['text'].iloc[0]"
   ]
  },
  {
   "cell_type": "code",
   "execution_count": 143,
   "metadata": {},
   "outputs": [
    {
     "data": {
      "text/plain": [
       "commit.record.body\n",
       "# Test\\nTest post, do not like.\\n                                                                                                                                                                                                                                                                                                                                                                                                                                                                                                                                                                                                                                                                                                                                                                                                                                                                                                                                                                                                                                                                                                                                                                                                                                                                                                                                                                                                                                                                                                                                                                                                                                                                                                                                                                                                                                                                                                                                                                                                                                                                                                                                                                                                                                                                                                                                                                                                                                                                                                                                                                                                                                                                                                                                                                                                                                                                                                                                                                                                                                                                                                                                                                                                                                                                                                                                                                                                                                                                                                                                                                                                                                                                                                                                                                                                                                                                                                                                                                                                                                                                                                                                                                                                                                                                                                                                                                                                                                                                                                                                                                                                                                                                                                                                                                                                                                                                                                                                                                                                                                                                                                                                                                                                                                                                                                                                                                                                                                                                                                                                                                                                                                                                                                                                                                                                                                                                                                                                                                                                                                                                                                                                                                                                                                                                                                                                                                                                                                                                                                                                                                                                                                                                                                                                                                                                                                                                                                                                                                                                                                                                                                                                                                                                                                                                                                                                                                                                                                                                                                                                                                                                                                                                                                                                                                                                                                                                                                                                                                                                                                                                                                                                                                                                                                                                                                                                                                                                                                                                                                                                                                                                                                                                                                                                                                                                                                                                                                                                                                                                                                                                                                                                                                                                                                                                                                                                                                                                                                                                                                                                                                                                                                                                                                                                                                                                                                                                                                                                                                                                                                                                                                                                                                                                                                                                                                                                                                                                                                                                                                                                                                                                                                                                                                                                                                                                                                                                                                                                                                                                                                                                                                                                                                                                                                                                                                                                                                                                                                                                                                                                                                                                                                                                                                                                                                                                                                                                                                                                                                                                                                                                                                                                                                                                                                                                                                                                                                                                                                                                                                                                                                                                                                                                                                                                                                                                                                                                                                                                                                                                                                                                                                                                                                                                                                                                                                                                                                                                                                                                                                                                                                                                     1\n",
       "コミュニティ基金\\nATプロトコルコミュニティファンドのご紹介\\nAT プロトコル コミュニティ ファンドは、コミュニティとイベントのサポート、助成金の提供、個人とプロジェクトのサポートを目的としています。財政的には、501c3 の Raft Foundation が主催しています。\\n\\nボリス・マン\\nニック・ジェラキネス\\nテッド・ハン\\nボリス・マン、ニック・ゲラキネス、テッド・ハン\\n2025年2月28日 — 3分で読める\\nATプロトコルコミュニティファンドのご紹介\\n最初の ATmosphere カンファレンスの開催の一環として、私たちはRaft Foundationから財政ホストとして受け入れられました。このプロジェクトはAT Protocol Community Fundと呼ばれ、私たちはそれを活用してさまざまな取り組みをサポートするつもりです。\\n\\nコミュニティとイベントのサポート\\n私たちは、人々を結びつけ、協力関係を促進することに重点を置いた方法でコミュニティやイベントをサポートしたいと考えています。\\n\\n近々開催されるATmosphereConf はその好例であり、私たちは今後 1 年間を通じてイベントに ATProto を出展する計画を熱心に進めています。\\n\\n私たちは、他のイベント、ミートアップ、特別なコミュニティの取り組みを長期的にサポートすることを構想しています。財政的な後援団体の設立、メーリング リストの構築、スポンサーの獲得は、大きなハードルとなる可能性があります。\\n\\nAT プロトコル コミュニティ ファンドは、これらの負担を軽減し、AT プロトコル開発者コミュニティの作成と成長を容易にするのに役立ちます。\\n\\nAT プロトコル開発者助成金\\nBluesky はマイクロ助成金プログラムを実施していますが、最終的にはプロトコルの他の部分と同様に、資金とサポートを Bluesky エンティティの外部で行うことの方が、特にマイクロブログ以外の他の Lexicon にとっては長期的に見てより良い設定となります。\\n\\nこのカテゴリには、PLC ディレクトリや共有リレーの運用の分散化をサポートするようなコモンズ インフラストラクチャもあります。Lexiconコミュニティなどの既存のボトムアップ コミュニティ イニシアチブは、インフラストラクチャまたはオープン ソース コード開発サポートによってサポートできます。\\n\\n私たちの Open Collective にプロジェクトを追加するための受け入れプロセスと、資金とアドバイスでプロジェクトをサポートするプロセスを用意します。各プロジェクトには独自の資金プールがあり、資金提供者と個人が各プロジェクトを直接サポートするオプションがあります。私たちは、あらゆる種類のプロジェクトとワーキング グループをサポートする一種のビルダー コレクティブを構想しています。\\n\\n初期のプロジェクト領域とワーキンググループには以下が含まれます。\\n\\n位置データ:会場データから始めて、多くのアプリにわたって atproto で地理データを表現するアプローチ\\nプライベートデータ:暗号化プリミティブ、セキュリティとユーザビリティのトレードオフ、プロトタイピングのアプローチについて一緒に学びます\\nプロトコルドキュメント: Discord や分散したブログ投稿のシリーズではなく、共有されコミュニティによって維持されるドキュメント\\nATmosphereConf には、興味のあるトピックについて議論するための共同ノート ページがあります。ぜひ独自のノートを追加したり、既存のノートを拡張したりしてください。\\n\\n初期プロジェクト委員会\\nTed、Nick、Boris は、財務ホストが保有する資金の配分を担当する最初のプロジェクト委員会です。\\n\\n\\n\\n\\nテッド・ハン@knowtheory.net、ニック・ジェラキネス@ngerakines.me、ボリス・マン@bmann.ca\\n\\n私たちは、委員会に加わる人材や、専門的なスキルを持つアドバイザーを積極的に探し、どのようなプロジェクトに取り組むべきかについてのガバナンスアプローチを考えていきます。\\n\\n財団やその他の単一の大規模組織はアンチパターンです。多くの組織が資本と協力をプールする多極的な調整を目指すべきです。\\n\\n私たちの目標は、AT プロトコルの基盤や集中化の拠点を作ることではなく、プロトコルを成功させるためにプロトコル内外で実行する必要がある重要な作業をサポートし、資金を提供することです。すでに素晴らしい仕事をしている個人、オープンソース プロジェクト、新興のアプリやスタートアップは数多くあります。彼らをサポートし、コモンズの作業とインフラストラクチャへの投資の機会費用を共有しましょう。\\n\\nどのように協力できるかについてさらに議論するために、ATmosphereConfにぜひお越しください。\\n\\nOpen Collectiveでサポートしてください\\nこれまで ATmosphereConf を支援していただいたスポンサーの皆様に感謝いたします。私たちの財務状況は Open Collective で透明性をもって公開されており、今後さらに多くのプロジェクトをそこに追加していく予定です。\\n\\nAT プロトコル コミュニティ ファンド - Open Collective\\nインフラストラクチャ、オープンソース コード開発、イベントやミートアップなどのコミュニティ イニシアチブを通じて AT プロトコルをサポートします。\\n\\nオープンコレクティブ\\n\\n私たちのオープンコレクティブは、資金提供を受けた各イニシアチブごとにプロジェクトを実施します\\n\\n最後に、私たちの財政的スポンサーである Raft Foundation の価値観のページから、次のような言葉を引用します。\\n\\nいかだは、生き残りと冒険、協力と流れを意味します。今日の危機の渦中にあると、無力感を感じやすくなります。しかし、私たちは協力すれば、浮かんでいられるだけでなく、集団の運命を形作ることができると信じています。\\nご意見をお待ちしております。communityfund@ atprotocol.devまでご連絡いただくか、 @atprotocol.devをフォローして、このサイトでメールによる更新情報にご登録ください。\\n\\n                                                                                                                                                                                                                                                                                                                                                                                                                                                                                                                                                                                                                                                                                                                                                                                                                                                                                                                                                                                                                                                                                                                                                                                                                                                                                                                                                                                                                                                                                                                                                                                                                                                                                                                                                                                                                                                                                                                                                                                                                                                                                                                                                                                                                                                                                                                                                                                                                                                                                                                                                                                                                                                                                                                                                                                                                                                                                                                                                                                                                                                                                                                                                                                                                                                                                                                                                                                                                                                                                                                                                                                                                                                                                                                                                                                                                                                                                                                                                                                                                                                                                                                                                                                                                                                                                                                                                                                                                                                                                                                                                                                                                                                                                                                                                                                                                                                                                                                                                                                                                                                                                                                                                                                                                                                                                                                                                                                                                                                                                                                                                                                                                                                                                                                                                                                                                                                                                                                                                                                                                                                                                                                                                                                                                                                                                                                                                                                                                                                                                                                                                                                                                                                                                                                                                                                                                                                                                                                                                                                                                                                                                                                                                                                                                                                                                                                                                                                                                                                                                                                                                                                                                                                                                                                                                                                                                                                                                                                                                                                                                                                                                                                                                                                                                                                                                                                                                                                                                                                                                                                                                                                                                                                                                                                                                                                                                                                                                                                                                                                                                                                                                                                                                                                                                                                                                                                                                                                                                                                                                                                                                                                                                                                                                                                                                                                                                                                                                                                                                                                                                                                                                                                                                                                                                                                                                                                                                                                                                                                                                                                                                                                                                                                                                                                                                                                                           1\n",
       "Trump accuses Zelensky of 'gambling with World War Three' in angry White House meeting | BBC News - YouTube\\nhttps://www.youtube.com/watch?v=Ch0q31cfEIQ\\n\\nTranscript:\\n(00:00) they were talking about this deal that has been agreed that they're due to sign later after this bilateral meeting uh relating to a sort of joint investment fund co-managed by us and Ukraine in terms of um monetizing minerals which are in Ukraine that have not yet been mined and that those funds would go towards rebuilding Ukraine they would go towards paying back the US for some of the military aid that it's already committed to Ukraine but that deal has hasn't been signed yet and president Selinsky coming here today looking for\\n(00:35) that security back stop as he said to president Trump he trusted President Putin on a deal once before and President Putin hadn't kept up his side of the agreement but president Trump has said to president sensy in the Oval Office what he said to the UK prime minister sir kir starmer yesterday what he said to the French President Emanuel maon on Monday which is I'm not talking about a security back stop until we get to a deal on peace he said to president Selinsky when we're talking about security that's the easy part he said\\n(01:07) which means we're at a ceasefire and we're at peace and president Selinsky said I'm not doing a ceasefire deal until there is a security back stop they are one and the same they have to come together and then the meeting uh got quite heated we're told from our journalist colleagues who were in the room uh with President Trump and president seninsky they said raising their voices there in that meeting in the Oval Office and uh we have that tape for you now we can bring it to you what's your message for\\n(01:41) them well if I didn't align myself with both of them you'd never have a deal you want me to say uh really terrible things about Putin and then say hi Vladimir how are we doing on the deal that doesn't work that way I'm not aligned with Putin I'm not aligned with anybody I'm aligned with the United States of America America and for the good of the world I'm aligned with the world and I want to get this thing over with you see the hatred he's got for Putin it's very tough for me to make a deal with that\\n(02:10) kind of ha he's got tremendous hatred and I understand that but I can tell you the other side isn't exactly in love with you know him either uh so it's not a question of alignment I have to I'm aligned with the world I want to get the things set i'm aligned with Europe I want to see if we can get this thing done done you want me to be tough I could be tougher than any human being you've ever seen I'd be so tough but you're never going to get a deal that way so that's the way it goes one more\\n(02:41) question I would to respond to this so look for four years in the United States of America we had a president who stood up at press conferences and talked tough about Vladimir Putin and then Putin invaded Ukraine and destroyed a significant chunk of the country the path to peace and the path to Prosperity is Maybe engaging in diplomacy we tried the pathway of Joe Biden of thumping our chest and pretending that the president of the United States's words mattered more than the president of the United States's actions what makes America a\\n(03:14) good country is America engaging in diplomacy that's what president Trump is doing can I ask you sure yeah yeah okay so he occupied it uh our parts big parts of Ukraine part of East and Crimea uh so he occupied it on 2014 so during a lot of years I'm not speaking about just Biden but those time was Obama then President Obama then president Trump then President Biden now the president Trump and God bless now president Trump will stop him but during 2014 nobody stopped him he just occupied and took he killed people you know what\\n(03:57) the contact are 2015 2014 2014 and 201 2014 yeah so I was not here yeah but exactly right yes but during 2014 till 2022 yeah the was the situation the same that people are been dying on the contact line nobody stopped him you know that we had conversations with him a lot of conversation my bilateral conversation and we signed with him me like a new president in 2019 I signed with him the deal I signed with him macron and Merkel we signed ceasefire ceasefire all of them told me that he will never go we signed him with gas contract gas contract yes\\n(04:45) but after that he broken this his fire he killed our people and he didn't exchange prisoners we signed the exchange of prisoners but he didn't do it what kind of diplomacy JD you are speaking about what what you what do you what do you mean I'm talking about the kind of diplomacy that's going to end the destruction of your country yes but Mr President Mr President with respect I think it's disrespectful for you to come into the Oval Office and try to litigate this in front of the American Media\\n(05:12) right now you guys are going around and forcing conscripts to the front lines because you have Manpower problems you should be thanking the president for trying to bring an end to this conflict you ever been to Ukraine that you say what problems we have I have been to I've actually I've actually watched and seen the stories and I know what happens is you bring people you bring them on a propaganda tour Mr President are do you disagree that you've had problems bringing people into your military and\\n(05:41) do you think that it's respectful to come to the Oval Office of the United States of America and attack the administration that is trying to trying to prevent the destruction of your country a lot of a lot of questions let's start from the beginning first of all during the war everybody has problems even you but you have nice ocean and don't F now but you will feel it in the future God bless know that God bless God bless you will not have War don't tell us what we're going to feel we're trying to solve a problem don't\\n(06:10) tell us what we're going to feel I'm not telling you because you're in no position to dictate that remember this you're in no position to dictate what we're going to feel we're going to feel very good feel influ we're going to feel very good and very strong you will feel influence you're right now not in a very good position you've allowed yourself in a very bad position and Happ to be right about from the very beginning of the war you're not in a good position you don't\\n(06:36) have the cards right now with us you start having cards right now you don't you're playing cards you're playing cards you're gambling with the lives of millions of people you're gambling with World War II you're gambling with World War I and what you're doing is very dis disrespectful to the country this country that's back to you far more than a lot people said they should have have you said thank you once this entire meeting no in this entire meeting have you said thank you you went to\\n(07:07) Pennsylvania in campaign for the opposition in October offer some words of appreciation for the United States of America and the president who's trying to save your country please you think that if you will speak very loudly about the war you he's not speaking loudly he's not speaking loudly your country is in big trouble can lot of talking your country is in big trouble I know you're not winning you're not winning this I you have a damn good chance of coming out okay because of us Mr President we are\\n(07:40) staying in our country staying strong from the very beginning of the war we've been alone and we are thankful I said thanks you this cabinet we gave you through this stupid president $350 billion we gave you military equipment and your men are brave but they had to use our military you didn't have our military equipment if you didn't have our military equipment this war would have been over in two weeks in days I heard it from Putin in three days this is something in two weeks of course yes it's going to be\\n(08:14) a very hard thing to do business like this just say thank you except that except except that there are disagreements and let's go litigate those disagreements rather than trying to fight it out in the American Media when you're wrong we know that you're wrong but you see I think it's good for the American people to see what's going on I think it's very important that's why I kept this going so long you have to be thankful you don't have the cards you're buried there you're people are dying you're running\\n(08:45) low on soldiers listen you're running low on soldiers it would be a damn good thing and then you then you tell us I don't want to cease fire I don't want a ceasefire I want to go and I want to this I look if you could get a ceasefire right now I tell you you take it so the bullets stop Flying and you meant stop getting killed course of course we want to stop the war but saying you don't want to see said to you I want a ceasefire guarantees because you'll get a ceasefire faster than a ask our people\\n(09:12) about ceasefire what they think that wasn't matter for you that wasn't with me that was with a a guy named Biden who was not a smart person that was that was with Obama it was your president excuse me that was with Obama who gave you sheets and I gave you javelins I gave you the Javelin to take out all those tanks Obama gave you sheets in fact the statement is Obama gave sheets and Trump gave javelins you got to be more thankful because let me tell you you don't have the cards with us you have the cards but\\n(09:46) without us you don't have any cards one more question to Mr Vice President I'm sorry here there'll be a tough deal to make um because the attitudes have to change what if Russia breaks this far what if Russia bra face talks what do you do then I understand that it's a h conversation right now what are you saying she's asking what if Russia breaks the ceasefire what if they what if anything what if a bomb drops on your head right now okay what have they broke it I don't know they broke it with Biden\\n(10:19) because Biden they didn't respect him they didn't respect Obama they respect me let me tell you Putin went through a hell of a lot with me he went through a phony Witch Hunt where they they used him and Russia Russia Russia Russia you ever hear of that deal that was a phony that was a phony Hunter Biden Joe Biden scam Hillary Clinton Shifty Adam Schiff it was a Democrat scam and he had to go through that and he did go through it we didn't end up in a war and he went through it he was accused of all that\\n(10:51) stuff he had nothing to do with it it came out of Hunter Biden's bathroom it came out of Hunter Biden's bedroom it was this disgusting and then they said oh oh the laptop from hell was made by Russia the 51 agents the whole thing was a scam and he had to put up with that he was being accused of all that stuff all I can say is this he might have broken deals with Obama and Bush and he might have broken them with Biden he did maybe maybe he didn't I don't know what happened but he didn't break him with me\\n(11:26) he wants to make a deal I don't know if you can make a deal the problem is I've empowered you to be a tough guy and I don't think you'd be a tough guy without the United States and your people are very brave but you're either going to make a deal or we're out and if we're out you'll fight it out I don't think it's going to be pretty but you'll fight it out but you don't have the cards but once we sign that deal you're in a much better position but you're not acting at\\n(11:54) all thankful and that's not a nice thing I'll be honest that's not a nice thing all right uh I think we've seen enough what do you think huh this is this is going to be great television I will say that all right we'll see what we can do about putting it [Applause] together we'll see I don't [Music] know guys come on please thank well that is the tape relay we have just had of an extraordinary meeting with president zalinski and Donald Trump and You' have seen the extremely tense and difficult exchanges\\n(12:56) between JD Vance Donald Trump and president zalinski Donald Trump telling zalinsky to be thankful and accusing the president of gambling with World War I JD Vance accusing uh zalinski of uh acting inappropriately in the Oval Office and uh ziny pushing back inviting JD Vance to visit Ukraine and see what has happened for himself and uh zalinski saying to Trump that there should be no compromises with Putin but we saw raised voices both sides arguing in front of the TV cameras and assembled journalists in the Oval\\n(13:37) Office and uh Donald Trump ending that exchange saying he wanted to keep it going effectively so that people could see what the attitudes were and saying the attitudes from zalinski had to change and that he had empowered the ukrainians to fight but if they didn't do a deal they would only have to fight it out and that they were not in a good position Donald Trump kept repeating to zilinski that they did not have the cards    1\n",
       "『There Is No Antimemetics Division』は、作家qntm（本名：サム・ヒューズ）によって執筆された作品で、SCP財団の世界観を舞台にしています。この物語は、自己検閲的な性質を持ち、拡散や認識を困難にする「アンタイミーム（antimeme）」と呼ばれる概念や存在に焦点を当てています。これらのアンタイミームは、人々の記憶や情報を消去し、自らの存在を隠蔽する特性を持ちます。そのため、SCP財団内でも「アンタイミーム部門」の存在や活動は忘れ去られがちであり、部門の長であるマリオン・ウィーラーでさえ、他の職員から認識されないことがあります。物語は、ウィーラーや彼女の同僚たちが、この認識不可能な脅威と対峙し、人類を守るために奮闘する様子を描いています。彼らは、記憶を強化する薬剤「ネスティクス（mnestics）」や、逆に記憶を消去する「アムネスティクス（amnestics）」を駆使し、アンタイミームに立ち向かいます。物語は、現実と非現実の境界を曖昧にし、読者にパラノイア的な緊張感を与える構成となっています。全体を通じて、人間の記憶や認識の脆弱性、そして未知の脅威に対する人類の闘争をテーマとしています。\\n\\n---\\n情報源\\n\\n以下は、前回の要約を作成する際に参考にした情報源のリストです。\\n\\n1. **Grimdark Magazine**によるレビュー記事\\n   - このレビューでは、物語の概要や主要キャラクターであるマリオン・ウィーラーの描写、アンタイミームの概念などが詳述されています。 citeturn0search3\\n\\n2. **newbookrecommendation.com**の要約記事\\n   - アンタイミームの定義や物語の構成、テーマ、登場人物など、作品全体の詳細な要約が提供されています。 citeturn0search1\\n\\n3. **The Quill to Live**のレビュー記事\\n   - 作品の構造、テーマ、キャラクター描写などに焦点を当て、物語の深層に迫るレビューが掲載されています。 citeturn0search8\\n\\n4. **Lakeside School Tatler**の書評\\n   - 作品のテーマ、キャラクター、物語の進行など、多角的な視点からの分析が行われています。 citeturn0search7\\n\\n5. **Xed's Blog**のレビュー記事\\n   - アンタイミームの概念や物語のスタイル、構成など、作品の独自性に焦点を当てたレビューが掲載されています。 citeturn0search5\\n\\nこれらの情報源を基に、前回の要約を作成いたしました。 \\n                                                                                                                                                                                                                                                                                                                                                                                                                                                                                                                                                                                                                                                                                                                                                                                                                                                                                                                                                                                                                                                                                                                                                                                                                                                                                                                                                                                                                                                                                                                                                                                                                                                                                                                                                                                                                                                                                                                                                                                                                                                                                                                                                                                                                                                                                                                                                                                                                                                                                                                                                                                                                                                                                                                                                                                                                                                                                                                                                                                                                                                                                                                                                                                                                                                                                                                                                                                                                                                                                                                                                                                                                                                                                                                                                                                                                                                                                                                                                                                                                                                                                                                                                                                                                                                                                                                                                                                                                                                                                                                                                                                                                                                                                                                                                                                                                                                                                                                                                                                                                                                                                                                                                                                                                                                                                                                                                                                                                                                                                                                                                                                                                                                                                                                                                                                                                                                                                                                                                                                                                                                                                                                                                                                                                                                                                                                                                                                                                                                                                                                                                                                                                                                                                                                                                                                                                                                                                                                                                                                                                                                                                                                                                                                                                                                                                                                                                                                                                                                                                                                                                                                                                                                                                                                                                                                                                                                                                                                                                                                                                                                                                                                                                                                                                                                                                                                                                                                                                                                                                                                                                                                                                                                                                                                                                                                                                                                                                                                                                                                                                                                                                                                                                                                                                                                                                                                                                                                                                                                                                                                                                                                                                                                                                                                                                                                                                                                                                                                                                                                                                                                                                                                                                                                                                                                                                                                                                                                                                                                                                                                                                                                                                                                                                                                                                                                                                                                                                                                                                                                                                                                                                                                                                                                                                                                                                                                                                                                                                                                                                                                                                                                                                                                                                                                                                                                                                                                                                                                                                                                                                                                                                                                                                                                                                                                                                                                                                                                                                1\n",
       "『There Is No Antimemetics Division』は、作家qntm（本名：サム・ヒューズ）によって執筆された作品で、SCP財団の世界観を舞台にしています。この物語は、自己検閲的な性質を持ち、拡散や認識を困難にする「アンタイミーム（antimeme）」と呼ばれる概念や存在に焦点を当てています。これらのアンタイミームは、人々の記憶や情報を消去し、自らの存在を隠蔽する特性を持ちます。そのため、SCP財団内でも「アンタイミーム部門」の存在や活動は忘れ去られがちであり、部門の長であるマリオン・ウィーラーでさえ、他の職員から認識されないことがあります。物語は、ウィーラーや彼女の同僚たちが、この認識不可能な脅威と対峙し、人類を守るために奮闘する様子を描いています。彼らは、記憶を強化する薬剤「ネスティクス（mnestics）」や、逆に記憶を消去する「アムネスティクス（amnestics）」を駆使し、アンタイミームに立ち向かいます。物語は、現実と非現実の境界を曖昧にし、読者にパラノイア的な緊張感を与える構成となっています。全体を通じて、人間の記憶や認識の脆弱性、そして未知の脅威に対する人類の闘争をテーマとしています。\\n\\n---\\n情報源\\n以下に、前回の要約作成時に参考にした情報源のURLをリストアップいたします。\\n\\n1. **Grimdark Magazine**によるレビュー記事\\n   - URL: [https://www.grimdarkmagazine.com/review-there-is-no-antimemetics-division/](https://www.grimdarkmagazine.com/review-there-is-no-antimemetics-division/)\\n\\n2. **The Quill to Live**のレビュー記事\\n   - URL: [https://thequilltolive.com/2023/09/19/there-is-no-antimemetics-division-by-qntm-sci-fi-book-review/](https://thequilltolive.com/2023/09/19/there-is-no-antimemetics-division-by-qntm-sci-fi-book-review/)\\n\\n3. **Lakeside School Tatler**の書評\\n   - URL: [https://tatler.lakesideschool.org/3562/arts/book-review-there-is-no-antimemetics-division-is-a-mind-bending-lovecraftian-innovation/](https://tatler.lakesideschool.org/3562/arts/book-review-there-is-no-antimemetics-division-is-a-mind-bending-lovecraftian-innovation/)\\n\\n4. **Xed's Blog**のレビュー記事\\n   - URL: [https://xed.ch/blog/2021/0904.html](https://xed.ch/blog/2021/0904.html)\\n\\nこれらの情報源を基に、前回の要約を作成いたしました。 \\n                                                                                                                                                                                                                                                                                                                                                                                                                                                                                                                                                                                                                                                                                                                                                                                                                                                                                                                                                                                                                                                                                                                                                                                                                                                                                                                                                                                                                                                                                                                                                                                                                                                                                                                                                                                                                                                                                                                                                                                                                                                                                                                                                                                                                                                                                                                                                                                                                                                                                                                                                                                                                                                                                                                                                                                                                                                                                                                                                                                                                                                                                                                                                                                                                                                                                                                                                                                                                                                                                                                                                                                                                                                                                                                                                                                                                                                                                                                                                                                                                                                                                                                                                                                                                                                                                                                                                                                                                                                                                                                                                                                                                                                                                                                                                                                                                                                                                                                                                                                                                                                                                                                                                                                                                                                                                                                                                                                                                                                                                                                                                                                                                                                                                                                                                                                                                                                                                                                                                                                                                                                                                                                                                                                                                                                                                                                                                                                                                                                                                                                                                                                                                                                                                                                                                                                                                                                                                                                                                                                                                                                                                                                                                                                                                                                                                                                                                                                                                                                                                                                                                                                                                                                                                                                                                                                                                                                                                                                                                                                                                                                                                                                                                                                                                                                                                                                                                                                                                                                                                                                                                                                                                                                                                                                                                                                                                                                                                                                                                                                                                                                                                                                                                                                                                                                                                                                                                                                                                                                                                                                                                                                                                                                                                                                                                                                                                                                                                                                                                                                                                                                                                                                                                                                                                                                                                                                                                                                                                                                                                                                                                                                                                                                                                                                                                                                                                                                                                                                                                                                                                                                                                                                                                                                                                                                                                                                                                                                                                                                                                                                                                                                                                                                                                                                                                                                                                                                                                                                                                                                                                                                                                        1\n",
       "Name: count, dtype: int64"
      ]
     },
     "execution_count": 143,
     "metadata": {},
     "output_type": "execute_result"
    }
   ],
   "source": [
    "df_bluesky_norm['commit.record.body'].value_counts()[:10]"
   ]
  },
  {
   "cell_type": "code",
   "execution_count": 131,
   "metadata": {},
   "outputs": [
    {
     "data": {
      "text/plain": [
       "commit.record.title\n",
       "2025/02/28 とのフラ 違法日記                                                    6\n",
       "                                                                        1\n",
       "ATプロトコルコミュニティファンドのご紹介                                                   1\n",
       "文字起こし                                                                   1\n",
       "'Be Thankful!' Trump Berates Zelensky in Insane Oval Office Meltdown    1\n",
       "There Is No Antimemetics Divisionのあらすじを探して日本語訳して                        1\n",
       "There Is No Antimemetics Divisionあらすじ                                   1\n",
       "2025/02/28                                                              1\n",
       "bob                                                                     1\n",
       "Name: count, dtype: int64"
      ]
     },
     "execution_count": 131,
     "metadata": {},
     "output_type": "execute_result"
    }
   ],
   "source": [
    "df_bluesky_norm['commit.record.title'].value_counts()[:10]"
   ]
  },
  {
   "cell_type": "markdown",
   "metadata": {},
   "source": [
    "# Load sample"
   ]
  },
  {
   "cell_type": "code",
   "execution_count": 9,
   "metadata": {},
   "outputs": [
    {
     "name": "stdout",
     "output_type": "stream",
     "text": [
      "(17274, 51)\n",
      "Read from: ./data/processed/df_x_norm_20250301_parsed_keywords.pkl\n"
     ]
    }
   ],
   "source": [
    "fname = './data/processed/df_x_norm_20250301_parsed_keywords.pkl'\n",
    "\n",
    "df_x_norm = pd.read_pickle(fname)\n",
    "print(df_x_norm.shape)\n",
    "print('Read from:', fname)"
   ]
  },
  {
   "cell_type": "code",
   "execution_count": 10,
   "metadata": {},
   "outputs": [],
   "source": [
    "pd.set_option('display.max_columns', 100)"
   ]
  },
  {
   "cell_type": "code",
   "execution_count": 13,
   "metadata": {},
   "outputs": [
    {
     "name": "stdout",
     "output_type": "stream",
     "text": [
      "(1000, 8)\n"
     ]
    },
    {
     "data": {
      "text/html": [
       "<div>\n",
       "<style scoped>\n",
       "    .dataframe tbody tr th:only-of-type {\n",
       "        vertical-align: middle;\n",
       "    }\n",
       "\n",
       "    .dataframe tbody tr th {\n",
       "        vertical-align: top;\n",
       "    }\n",
       "\n",
       "    .dataframe thead th {\n",
       "        text-align: right;\n",
       "    }\n",
       "</style>\n",
       "<table border=\"1\" class=\"dataframe\">\n",
       "  <thead>\n",
       "    <tr style=\"text-align: right;\">\n",
       "      <th></th>\n",
       "      <th>bucket</th>\n",
       "      <th>file</th>\n",
       "      <th>matching_rules</th>\n",
       "      <th>data.author_id</th>\n",
       "      <th>data.conversation_id</th>\n",
       "      <th>data.text</th>\n",
       "      <th>data.referenced_tweets</th>\n",
       "      <th>includes.media</th>\n",
       "    </tr>\n",
       "  </thead>\n",
       "  <tbody>\n",
       "    <tr>\n",
       "      <th>5322</th>\n",
       "      <td>x-misinfo</td>\n",
       "      <td>2025/03/01/05/x-1-2025-03-01-05-57-44-d6423c97...</td>\n",
       "      <td>[{'id': '1895531213122588673', 'tag': 'keyword...</td>\n",
       "      <td>1497096338277744641</td>\n",
       "      <td>1895655864536813792</td>\n",
       "      <td>@stavridisj @CNN @jimsciutto This puts Canada ...</td>\n",
       "      <td>[{'type': 'replied_to', 'id': '189565586453681...</td>\n",
       "      <td>[{'duration_ms': 305386, 'height': 720, 'media...</td>\n",
       "    </tr>\n",
       "    <tr>\n",
       "      <th>74</th>\n",
       "      <td>x-misinfo</td>\n",
       "      <td>2025/03/01/00/x-1-2025-03-01-00-01-57-ff8f6d7a...</td>\n",
       "      <td>[{'id': '1895531213122588673', 'tag': 'keyword...</td>\n",
       "      <td>1780186210264100865</td>\n",
       "      <td>1895601454225744172</td>\n",
       "      <td>@yashar Awesome! Go fight in the war then UK a...</td>\n",
       "      <td>[{'type': 'replied_to', 'id': '189560145422574...</td>\n",
       "      <td>[{'height': 2000, 'media_key': '3_189560145011...</td>\n",
       "    </tr>\n",
       "    <tr>\n",
       "      <th>3078</th>\n",
       "      <td>x-misinfo</td>\n",
       "      <td>2025/03/01/02/x-1-2025-03-01-02-49-07-33bbb6c4...</td>\n",
       "      <td>[{'id': '1895531213122588673', 'tag': 'keyword...</td>\n",
       "      <td>712236479767040000</td>\n",
       "      <td>1895667483769782502</td>\n",
       "      <td>@TezcatliOcta “Not only that, their operations...</td>\n",
       "      <td>[{'type': 'replied_to', 'id': '189566748376978...</td>\n",
       "      <td>[{'height': 2048, 'media_key': '3_189566747664...</td>\n",
       "    </tr>\n",
       "  </tbody>\n",
       "</table>\n",
       "</div>"
      ],
      "text/plain": [
       "         bucket                                               file  \\\n",
       "5322  x-misinfo  2025/03/01/05/x-1-2025-03-01-05-57-44-d6423c97...   \n",
       "74    x-misinfo  2025/03/01/00/x-1-2025-03-01-00-01-57-ff8f6d7a...   \n",
       "3078  x-misinfo  2025/03/01/02/x-1-2025-03-01-02-49-07-33bbb6c4...   \n",
       "\n",
       "                                         matching_rules       data.author_id  \\\n",
       "5322  [{'id': '1895531213122588673', 'tag': 'keyword...  1497096338277744641   \n",
       "74    [{'id': '1895531213122588673', 'tag': 'keyword...  1780186210264100865   \n",
       "3078  [{'id': '1895531213122588673', 'tag': 'keyword...   712236479767040000   \n",
       "\n",
       "     data.conversation_id                                          data.text  \\\n",
       "5322  1895655864536813792  @stavridisj @CNN @jimsciutto This puts Canada ...   \n",
       "74    1895601454225744172  @yashar Awesome! Go fight in the war then UK a...   \n",
       "3078  1895667483769782502  @TezcatliOcta “Not only that, their operations...   \n",
       "\n",
       "                                 data.referenced_tweets  \\\n",
       "5322  [{'type': 'replied_to', 'id': '189565586453681...   \n",
       "74    [{'type': 'replied_to', 'id': '189560145422574...   \n",
       "3078  [{'type': 'replied_to', 'id': '189566748376978...   \n",
       "\n",
       "                                         includes.media  \n",
       "5322  [{'duration_ms': 305386, 'height': 720, 'media...  \n",
       "74    [{'height': 2000, 'media_key': '3_189560145011...  \n",
       "3078  [{'height': 2048, 'media_key': '3_189566747664...  "
      ]
     },
     "execution_count": 13,
     "metadata": {},
     "output_type": "execute_result"
    }
   ],
   "source": [
    "# Get subsample of N tweets\n",
    "N = 1_000\n",
    "df_x_sample = df_x_norm.sample(N, random_state=0)[[\n",
    "    'bucket', 'file', 'matching_rules',\n",
    "    'data.author_id', 'data.conversation_id',\n",
    "    'data.text', 'data.referenced_tweets', 'includes.media',\n",
    "]]\n",
    "print(df_x_sample.shape)\n",
    "df_x_sample[:3]"
   ]
  },
  {
   "cell_type": "code",
   "execution_count": null,
   "metadata": {},
   "outputs": [
    {
     "name": "stdout",
     "output_type": "stream",
     "text": [
      "Wrote to: ./data/to_annotate/df_x_sample_N1000.xlsx\n"
     ]
    }
   ],
   "source": [
    "# fname = f'./data/to_annotate/df_x_sample_N{N}.xlsx'\n",
    "# df_x_sample.to_excel(fname, index=False)\n",
    "# print('Wrote to:', fname)"
   ]
  },
  {
   "cell_type": "markdown",
   "metadata": {},
   "source": [
    "# OpenAI Assignment"
   ]
  },
  {
   "cell_type": "code",
   "execution_count": 52,
   "metadata": {},
   "outputs": [],
   "source": [
    "client = OpenAI(api_key=key_openai)"
   ]
  },
  {
   "cell_type": "code",
   "execution_count": 57,
   "metadata": {},
   "outputs": [],
   "source": [
    "model_name = 'gpt-4o-mini-2024-07-18'"
   ]
  },
  {
   "cell_type": "markdown",
   "metadata": {},
   "source": [
    "## Define json schema for extractions"
   ]
  },
  {
   "cell_type": "code",
   "execution_count": 55,
   "metadata": {},
   "outputs": [],
   "source": [
    "class NarrativeEvent(BaseModel):\n",
    "    teller: str\n",
    "    mode_of_telling: str\n",
    "    recipient: str\n",
    "    social_situation: str\n",
    "\n",
    "    agent: str\n",
    "    action_or_event: str\n",
    "    object: str\n",
    "    location: str\n",
    "    time_frame: str\n",
    "    motivation_or_cause: str\n",
    "\n",
    "class NarrativeExtraction(BaseModel):\n",
    "    events: List[NarrativeEvent]"
   ]
  },
  {
   "cell_type": "markdown",
   "metadata": {},
   "source": [
    "## Prompting"
   ]
  },
  {
   "cell_type": "code",
   "execution_count": 66,
   "metadata": {},
   "outputs": [
    {
     "name": "stdout",
     "output_type": "stream",
     "text": [
      "You are an expert at structured data extraction and narrative understanding from social media data. You will be given unstructured text from a social media post and should convert it into the given structure, a list of events where each event contains the following elements:\n",
      "\n",
      "teller: One who is recounting the event.\n",
      "mode_of_telling: How the teller is recounting the event.\n",
      "recipient: Audience of the teller.\n",
      "social_situation: In what context the teller is recounting the event to the recipient.\n",
      "agent: One who is/has done the event.\n",
      "action_or_event: Action which the agent has taken.\n",
      "object: One who is receiving the action or being acted upon.\n",
      "location: Where the action is taking/took place.\n",
      "time_frame: When the action is taking/took place.\n",
      "motivation_or_cause: Why the action is taking/took place.\n",
      "\n",
      "A post may contain no events or multiple. Extract all identified events in the post. Elements may be explicitly found in the post or implicit. Elements that cannot be filled should be left as empty strings. If the social media post's poster is extracted as an element, they should be referred to as \"User\". All other people can be identifed by their name and Twitter handle (if found in the post).\n"
     ]
    }
   ],
   "source": [
    "system_prompt = '''\n",
    "You are an expert at structured data extraction and narrative understanding from social media data. You will be given unstructured text from a social media post and should convert it into the given structure, a list of events where each event contains the following elements:\n",
    "\n",
    "teller: One who is recounting the event.\n",
    "mode_of_telling: How the teller is recounting the event.\n",
    "recipient: Audience of the teller.\n",
    "social_situation: In what context the teller is recounting the event to the recipient.\n",
    "agent: One who is/has done the event.\n",
    "action_or_event: Action which the agent has taken.\n",
    "object: One who is receiving the action or being acted upon.\n",
    "location: Where the action is taking/took place.\n",
    "time_frame: When the action is taking/took place.\n",
    "motivation_or_cause: Why the action is taking/took place.\n",
    "\n",
    "A post may contain no events or multiple. Extract all identified events in the post. Elements may be explicitly found in the post or implicit. Elements that cannot be filled should be left as empty strings. If the social media post's poster is extracted as an element, they should be referred to as \"User\". All other people can be identifed by their name and Twitter handle (if found in the post).\n",
    "'''.strip()\n",
    "print(system_prompt)"
   ]
  },
  {
   "cell_type": "code",
   "execution_count": 67,
   "metadata": {},
   "outputs": [
    {
     "name": "stdout",
     "output_type": "stream",
     "text": [
      "@stavridisj @CNN @jimsciutto This puts Canada in a very difficult spot  ....  Any advice, Admiral?\n"
     ]
    }
   ],
   "source": [
    "text = df_x_sample['data.text'].iloc[0]\n",
    "print(text)"
   ]
  },
  {
   "cell_type": "code",
   "execution_count": 68,
   "metadata": {},
   "outputs": [],
   "source": [
    "completion = client.beta.chat.completions.parse(\n",
    "    model=model_name,\n",
    "    messages=[\n",
    "        {\"role\": \"system\", \"content\": system_prompt},\n",
    "        {\"role\": \"user\", \"content\": text}\n",
    "    ],\n",
    "    response_format=NarrativeExtraction,\n",
    ")\n",
    "message = completion.choices[0].message"
   ]
  },
  {
   "cell_type": "code",
   "execution_count": 69,
   "metadata": {},
   "outputs": [
    {
     "data": {
      "text/plain": [
       "{'events': [{'teller': 'User',\n",
       "   'mode_of_telling': 'Questioning',\n",
       "   'recipient': 'Admiral Stavridis',\n",
       "   'social_situation': 'Seeking advice on a difficult situation regarding Canada',\n",
       "   'agent': 'User',\n",
       "   'action_or_event': 'Seeks advice',\n",
       "   'object': 'Admiral Stavridis',\n",
       "   'location': '',\n",
       "   'time_frame': '',\n",
       "   'motivation_or_cause': 'Canada being in a difficult spot'}]}"
      ]
     },
     "execution_count": 69,
     "metadata": {},
     "output_type": "execute_result"
    }
   ],
   "source": [
    "json.loads(message.content)"
   ]
  },
  {
   "cell_type": "code",
   "execution_count": 71,
   "metadata": {},
   "outputs": [],
   "source": [
    "processed_data_dir = os.path.join('./data', 'processed')\n",
    "fname_parsed_rounds_in_prog = os.path.join(\n",
    "    processed_data_dir, 'in_prog_gpt4omini_df_x_sample_extractions.pkl'\n",
    ")"
   ]
  },
  {
   "cell_type": "code",
   "execution_count": 88,
   "metadata": {},
   "outputs": [
    {
     "name": "stdout",
     "output_type": "stream",
     "text": [
      "DONE\n"
     ]
    }
   ],
   "source": [
    "save_every = 10\n",
    "\n",
    "id2processed_text = {}\n",
    "for idx, row in enumerate(df_x_sample.iterrows()):\n",
    "    row = row[1]\n",
    "    id_ = row['data.conversation_id'] + '|' + row['file']\n",
    "    try:\n",
    "        completion = client.beta.chat.completions.parse(\n",
    "            model=model_name,\n",
    "            messages=[\n",
    "                {\"role\": \"system\", \"content\": system_prompt},\n",
    "                {\"role\": \"user\", \"content\": row['data.text']}\n",
    "            ],\n",
    "            response_format=NarrativeExtraction,\n",
    "        )\n",
    "        message = completion.choices[0].message\n",
    "        try:\n",
    "            parsed_round = message.content\n",
    "        except:\n",
    "            # Parsing error\n",
    "            print(f'error_parsing round: {round_n}')\n",
    "            parsed_round = message\n",
    "    except:\n",
    "        # Invalid JSON\n",
    "        parsed_round = {}\n",
    "    id2processed_text[id_] = parsed_round\n",
    "\n",
    "    # Save intermittently\n",
    "    if (idx + 1) % save_every == 0:\n",
    "        with open(fname_parsed_rounds_in_prog, 'wb') as f:\n",
    "            pickle.dump(id2processed_text, f)\n",
    "print('DONE')"
   ]
  },
  {
   "cell_type": "code",
   "execution_count": 89,
   "metadata": {},
   "outputs": [
    {
     "name": "stdout",
     "output_type": "stream",
     "text": [
      "Final export to: ./data/processed/gpt4omini_df_x_sample_extractions.xlsx\n"
     ]
    }
   ],
   "source": [
    "processed_data_dir = os.path.join('./data', 'processed')\n",
    "fname = os.path.join(\n",
    "    processed_data_dir, 'gpt4omini_df_x_sample_extractions.xlsx'\n",
    ")\n",
    "\n",
    "with open(fname, 'wb') as f:\n",
    "    pickle.dump(file2processed_text, f)\n",
    "print('Final export to:', fname)\n",
    "\n",
    "# with open(fname, 'rb') as f:\n",
    "#     file2processed_text = pickle.load(f)\n",
    "# print('Read from:', fname)"
   ]
  },
  {
   "cell_type": "code",
   "execution_count": 90,
   "metadata": {},
   "outputs": [
    {
     "data": {
      "text/html": [
       "<div>\n",
       "<style scoped>\n",
       "    .dataframe tbody tr th:only-of-type {\n",
       "        vertical-align: middle;\n",
       "    }\n",
       "\n",
       "    .dataframe tbody tr th {\n",
       "        vertical-align: top;\n",
       "    }\n",
       "\n",
       "    .dataframe thead th {\n",
       "        text-align: right;\n",
       "    }\n",
       "</style>\n",
       "<table border=\"1\" class=\"dataframe\">\n",
       "  <thead>\n",
       "    <tr style=\"text-align: right;\">\n",
       "      <th></th>\n",
       "      <th>bucket</th>\n",
       "      <th>file</th>\n",
       "      <th>matching_rules</th>\n",
       "      <th>data.author_id</th>\n",
       "      <th>data.conversation_id</th>\n",
       "      <th>data.text</th>\n",
       "      <th>data.referenced_tweets</th>\n",
       "      <th>includes.media</th>\n",
       "    </tr>\n",
       "  </thead>\n",
       "  <tbody>\n",
       "    <tr>\n",
       "      <th>5322</th>\n",
       "      <td>x-misinfo</td>\n",
       "      <td>2025/03/01/05/x-1-2025-03-01-05-57-44-d6423c97...</td>\n",
       "      <td>[{'id': '1895531213122588673', 'tag': 'keyword...</td>\n",
       "      <td>1497096338277744641</td>\n",
       "      <td>1895655864536813792</td>\n",
       "      <td>@stavridisj @CNN @jimsciutto This puts Canada ...</td>\n",
       "      <td>[{'type': 'replied_to', 'id': '189565586453681...</td>\n",
       "      <td>[{'duration_ms': 305386, 'height': 720, 'media...</td>\n",
       "    </tr>\n",
       "    <tr>\n",
       "      <th>74</th>\n",
       "      <td>x-misinfo</td>\n",
       "      <td>2025/03/01/00/x-1-2025-03-01-00-01-57-ff8f6d7a...</td>\n",
       "      <td>[{'id': '1895531213122588673', 'tag': 'keyword...</td>\n",
       "      <td>1780186210264100865</td>\n",
       "      <td>1895601454225744172</td>\n",
       "      <td>@yashar Awesome! Go fight in the war then UK a...</td>\n",
       "      <td>[{'type': 'replied_to', 'id': '189560145422574...</td>\n",
       "      <td>[{'height': 2000, 'media_key': '3_189560145011...</td>\n",
       "    </tr>\n",
       "    <tr>\n",
       "      <th>3078</th>\n",
       "      <td>x-misinfo</td>\n",
       "      <td>2025/03/01/02/x-1-2025-03-01-02-49-07-33bbb6c4...</td>\n",
       "      <td>[{'id': '1895531213122588673', 'tag': 'keyword...</td>\n",
       "      <td>712236479767040000</td>\n",
       "      <td>1895667483769782502</td>\n",
       "      <td>@TezcatliOcta “Not only that, their operations...</td>\n",
       "      <td>[{'type': 'replied_to', 'id': '189566748376978...</td>\n",
       "      <td>[{'height': 2048, 'media_key': '3_189566747664...</td>\n",
       "    </tr>\n",
       "  </tbody>\n",
       "</table>\n",
       "</div>"
      ],
      "text/plain": [
       "         bucket                                               file  \\\n",
       "5322  x-misinfo  2025/03/01/05/x-1-2025-03-01-05-57-44-d6423c97...   \n",
       "74    x-misinfo  2025/03/01/00/x-1-2025-03-01-00-01-57-ff8f6d7a...   \n",
       "3078  x-misinfo  2025/03/01/02/x-1-2025-03-01-02-49-07-33bbb6c4...   \n",
       "\n",
       "                                         matching_rules       data.author_id  \\\n",
       "5322  [{'id': '1895531213122588673', 'tag': 'keyword...  1497096338277744641   \n",
       "74    [{'id': '1895531213122588673', 'tag': 'keyword...  1780186210264100865   \n",
       "3078  [{'id': '1895531213122588673', 'tag': 'keyword...   712236479767040000   \n",
       "\n",
       "     data.conversation_id                                          data.text  \\\n",
       "5322  1895655864536813792  @stavridisj @CNN @jimsciutto This puts Canada ...   \n",
       "74    1895601454225744172  @yashar Awesome! Go fight in the war then UK a...   \n",
       "3078  1895667483769782502  @TezcatliOcta “Not only that, their operations...   \n",
       "\n",
       "                                 data.referenced_tweets  \\\n",
       "5322  [{'type': 'replied_to', 'id': '189565586453681...   \n",
       "74    [{'type': 'replied_to', 'id': '189560145422574...   \n",
       "3078  [{'type': 'replied_to', 'id': '189566748376978...   \n",
       "\n",
       "                                         includes.media  \n",
       "5322  [{'duration_ms': 305386, 'height': 720, 'media...  \n",
       "74    [{'height': 2000, 'media_key': '3_189560145011...  \n",
       "3078  [{'height': 2048, 'media_key': '3_189566747664...  "
      ]
     },
     "execution_count": 90,
     "metadata": {},
     "output_type": "execute_result"
    }
   ],
   "source": [
    "df_x_sample[:3]"
   ]
  },
  {
   "cell_type": "code",
   "execution_count": 112,
   "metadata": {},
   "outputs": [
    {
     "name": "stdout",
     "output_type": "stream",
     "text": [
      "(100, 4)\n"
     ]
    },
    {
     "data": {
      "text/html": [
       "<div>\n",
       "<style scoped>\n",
       "    .dataframe tbody tr th:only-of-type {\n",
       "        vertical-align: middle;\n",
       "    }\n",
       "\n",
       "    .dataframe tbody tr th {\n",
       "        vertical-align: top;\n",
       "    }\n",
       "\n",
       "    .dataframe thead th {\n",
       "        text-align: right;\n",
       "    }\n",
       "</style>\n",
       "<table border=\"1\" class=\"dataframe\">\n",
       "  <thead>\n",
       "    <tr style=\"text-align: right;\">\n",
       "      <th></th>\n",
       "      <th>id</th>\n",
       "      <th>output</th>\n",
       "      <th>data.conversation_id</th>\n",
       "      <th>file</th>\n",
       "    </tr>\n",
       "  </thead>\n",
       "  <tbody>\n",
       "    <tr>\n",
       "      <th>0</th>\n",
       "      <td>1895655864536813792|2025/03/01/05/x-1-2025-03-...</td>\n",
       "      <td>{\"events\":[{\"teller\":\"User\",\"mode_of_telling\":...</td>\n",
       "      <td>1895655864536813792</td>\n",
       "      <td>2025/03/01/05/x-1-2025-03-01-05-57-44-d6423c97...</td>\n",
       "    </tr>\n",
       "    <tr>\n",
       "      <th>1</th>\n",
       "      <td>1895601454225744172|2025/03/01/00/x-1-2025-03-...</td>\n",
       "      <td>{\"events\":[{\"teller\":\"User\",\"mode_of_telling\":...</td>\n",
       "      <td>1895601454225744172</td>\n",
       "      <td>2025/03/01/00/x-1-2025-03-01-00-01-57-ff8f6d7a...</td>\n",
       "    </tr>\n",
       "    <tr>\n",
       "      <th>2</th>\n",
       "      <td>1895667483769782502|2025/03/01/02/x-1-2025-03-...</td>\n",
       "      <td>{\"events\":[{\"teller\":\"User\",\"mode_of_telling\":...</td>\n",
       "      <td>1895667483769782502</td>\n",
       "      <td>2025/03/01/02/x-1-2025-03-01-02-49-07-33bbb6c4...</td>\n",
       "    </tr>\n",
       "  </tbody>\n",
       "</table>\n",
       "</div>"
      ],
      "text/plain": [
       "                                                  id  \\\n",
       "0  1895655864536813792|2025/03/01/05/x-1-2025-03-...   \n",
       "1  1895601454225744172|2025/03/01/00/x-1-2025-03-...   \n",
       "2  1895667483769782502|2025/03/01/02/x-1-2025-03-...   \n",
       "\n",
       "                                              output data.conversation_id  \\\n",
       "0  {\"events\":[{\"teller\":\"User\",\"mode_of_telling\":...  1895655864536813792   \n",
       "1  {\"events\":[{\"teller\":\"User\",\"mode_of_telling\":...  1895601454225744172   \n",
       "2  {\"events\":[{\"teller\":\"User\",\"mode_of_telling\":...  1895667483769782502   \n",
       "\n",
       "                                                file  \n",
       "0  2025/03/01/05/x-1-2025-03-01-05-57-44-d6423c97...  \n",
       "1  2025/03/01/00/x-1-2025-03-01-00-01-57-ff8f6d7a...  \n",
       "2  2025/03/01/02/x-1-2025-03-01-02-49-07-33bbb6c4...  "
      ]
     },
     "execution_count": 112,
     "metadata": {},
     "output_type": "execute_result"
    }
   ],
   "source": [
    "df_output = pd.DataFrame({\n",
    "    'id': id2processed_text.keys(),\n",
    "    'output': id2processed_text.values(),\n",
    "})\n",
    "df_output.loc[:,'data.conversation_id'] = df_output['id'].apply(lambda x: x.split('|')[0])\n",
    "df_output.loc[:,'file'] = df_output['id'].apply(lambda x: x.split('|')[1])\n",
    "print(df_output.shape)\n",
    "df_output[:3]"
   ]
  },
  {
   "cell_type": "code",
   "execution_count": 113,
   "metadata": {},
   "outputs": [],
   "source": [
    "# Convert response to json\n",
    "def safe_eval(text: str, default_value = dict()):\n",
    "    # Call eval safely\n",
    "    try:\n",
    "        output = json.loads(text)\n",
    "    except:\n",
    "        output = default_value\n",
    "    return output\n",
    "\n",
    "df_output.loc[:,'output'] = df_output['output'].apply(safe_eval)\n",
    "df_output.loc[:,'output'] = df_output['output'].apply(lambda x: x['events'])"
   ]
  },
  {
   "cell_type": "code",
   "execution_count": 115,
   "metadata": {},
   "outputs": [
    {
     "name": "stdout",
     "output_type": "stream",
     "text": [
      "(100, 9)\n"
     ]
    },
    {
     "data": {
      "text/html": [
       "<div>\n",
       "<style scoped>\n",
       "    .dataframe tbody tr th:only-of-type {\n",
       "        vertical-align: middle;\n",
       "    }\n",
       "\n",
       "    .dataframe tbody tr th {\n",
       "        vertical-align: top;\n",
       "    }\n",
       "\n",
       "    .dataframe thead th {\n",
       "        text-align: right;\n",
       "    }\n",
       "</style>\n",
       "<table border=\"1\" class=\"dataframe\">\n",
       "  <thead>\n",
       "    <tr style=\"text-align: right;\">\n",
       "      <th></th>\n",
       "      <th>data.conversation_id</th>\n",
       "      <th>file</th>\n",
       "      <th>bucket</th>\n",
       "      <th>matching_rules</th>\n",
       "      <th>data.author_id</th>\n",
       "      <th>data.text</th>\n",
       "      <th>data.referenced_tweets</th>\n",
       "      <th>includes.media</th>\n",
       "      <th>output</th>\n",
       "    </tr>\n",
       "  </thead>\n",
       "  <tbody>\n",
       "    <tr>\n",
       "      <th>0</th>\n",
       "      <td>1895655864536813792</td>\n",
       "      <td>2025/03/01/05/x-1-2025-03-01-05-57-44-d6423c97...</td>\n",
       "      <td>x-misinfo</td>\n",
       "      <td>[{'id': '1895531213122588673', 'tag': 'keyword...</td>\n",
       "      <td>1497096338277744641</td>\n",
       "      <td>@stavridisj @CNN @jimsciutto This puts Canada ...</td>\n",
       "      <td>[{'type': 'replied_to', 'id': '189565586453681...</td>\n",
       "      <td>[{'duration_ms': 305386, 'height': 720, 'media...</td>\n",
       "      <td>[{'teller': 'User', 'mode_of_telling': 'Direct...</td>\n",
       "    </tr>\n",
       "    <tr>\n",
       "      <th>1</th>\n",
       "      <td>1895601454225744172</td>\n",
       "      <td>2025/03/01/00/x-1-2025-03-01-00-01-57-ff8f6d7a...</td>\n",
       "      <td>x-misinfo</td>\n",
       "      <td>[{'id': '1895531213122588673', 'tag': 'keyword...</td>\n",
       "      <td>1780186210264100865</td>\n",
       "      <td>@yashar Awesome! Go fight in the war then UK a...</td>\n",
       "      <td>[{'type': 'replied_to', 'id': '189560145422574...</td>\n",
       "      <td>[{'height': 2000, 'media_key': '3_189560145011...</td>\n",
       "      <td>[{'teller': 'User', 'mode_of_telling': 'Exclam...</td>\n",
       "    </tr>\n",
       "    <tr>\n",
       "      <th>2</th>\n",
       "      <td>1895667483769782502</td>\n",
       "      <td>2025/03/01/02/x-1-2025-03-01-02-49-07-33bbb6c4...</td>\n",
       "      <td>x-misinfo</td>\n",
       "      <td>[{'id': '1895531213122588673', 'tag': 'keyword...</td>\n",
       "      <td>712236479767040000</td>\n",
       "      <td>@TezcatliOcta “Not only that, their operations...</td>\n",
       "      <td>[{'type': 'replied_to', 'id': '189566748376978...</td>\n",
       "      <td>[{'height': 2048, 'media_key': '3_189566747664...</td>\n",
       "      <td>[{'teller': 'User', 'mode_of_telling': 'Statem...</td>\n",
       "    </tr>\n",
       "  </tbody>\n",
       "</table>\n",
       "</div>"
      ],
      "text/plain": [
       "  data.conversation_id                                               file  \\\n",
       "0  1895655864536813792  2025/03/01/05/x-1-2025-03-01-05-57-44-d6423c97...   \n",
       "1  1895601454225744172  2025/03/01/00/x-1-2025-03-01-00-01-57-ff8f6d7a...   \n",
       "2  1895667483769782502  2025/03/01/02/x-1-2025-03-01-02-49-07-33bbb6c4...   \n",
       "\n",
       "      bucket                                     matching_rules  \\\n",
       "0  x-misinfo  [{'id': '1895531213122588673', 'tag': 'keyword...   \n",
       "1  x-misinfo  [{'id': '1895531213122588673', 'tag': 'keyword...   \n",
       "2  x-misinfo  [{'id': '1895531213122588673', 'tag': 'keyword...   \n",
       "\n",
       "        data.author_id                                          data.text  \\\n",
       "0  1497096338277744641  @stavridisj @CNN @jimsciutto This puts Canada ...   \n",
       "1  1780186210264100865  @yashar Awesome! Go fight in the war then UK a...   \n",
       "2   712236479767040000  @TezcatliOcta “Not only that, their operations...   \n",
       "\n",
       "                              data.referenced_tweets  \\\n",
       "0  [{'type': 'replied_to', 'id': '189565586453681...   \n",
       "1  [{'type': 'replied_to', 'id': '189560145422574...   \n",
       "2  [{'type': 'replied_to', 'id': '189566748376978...   \n",
       "\n",
       "                                      includes.media  \\\n",
       "0  [{'duration_ms': 305386, 'height': 720, 'media...   \n",
       "1  [{'height': 2000, 'media_key': '3_189560145011...   \n",
       "2  [{'height': 2048, 'media_key': '3_189566747664...   \n",
       "\n",
       "                                              output  \n",
       "0  [{'teller': 'User', 'mode_of_telling': 'Direct...  \n",
       "1  [{'teller': 'User', 'mode_of_telling': 'Exclam...  \n",
       "2  [{'teller': 'User', 'mode_of_telling': 'Statem...  "
      ]
     },
     "execution_count": 115,
     "metadata": {},
     "output_type": "execute_result"
    }
   ],
   "source": [
    "# Join\n",
    "to_index = ['data.conversation_id', 'file']\n",
    "df_x_sample_output = df_x_sample.set_index(to_index).join(\n",
    "    df_output.set_index(to_index)[['output']]\n",
    ").reset_index()\n",
    "print(df_x_sample_output.shape)\n",
    "df_x_sample_output[:3]"
   ]
  },
  {
   "cell_type": "code",
   "execution_count": 126,
   "metadata": {},
   "outputs": [
    {
     "name": "stdout",
     "output_type": "stream",
     "text": [
      "(110, 19)\n",
      "Wrote to: ./data/to_annotate/df_x_sample_narrative_extractions.xlsx\n"
     ]
    }
   ],
   "source": [
    "# Explode and export\n",
    "df_export = df_x_sample_output.explode(['output']).reset_index(drop=True)\n",
    "df_export = df_export.join(pd.json_normalize(df_export['output']))\n",
    "print(df_export.shape)\n",
    "\n",
    "fname = './data/to_annotate/df_x_sample_narrative_extractions.xlsx'\n",
    "df_export.to_excel(fname, index=False)\n",
    "print('Wrote to:', fname)"
   ]
  },
  {
   "cell_type": "markdown",
   "metadata": {},
   "source": [
    "# Evaluation"
   ]
  },
  {
   "cell_type": "code",
   "execution_count": 127,
   "metadata": {},
   "outputs": [
    {
     "name": "stdout",
     "output_type": "stream",
     "text": [
      "(113, 41)\n"
     ]
    },
    {
     "data": {
      "text/html": [
       "<div>\n",
       "<style scoped>\n",
       "    .dataframe tbody tr th:only-of-type {\n",
       "        vertical-align: middle;\n",
       "    }\n",
       "\n",
       "    .dataframe tbody tr th {\n",
       "        vertical-align: top;\n",
       "    }\n",
       "\n",
       "    .dataframe thead th {\n",
       "        text-align: right;\n",
       "    }\n",
       "</style>\n",
       "<table border=\"1\" class=\"dataframe\">\n",
       "  <thead>\n",
       "    <tr style=\"text-align: right;\">\n",
       "      <th></th>\n",
       "      <th>data.conversation_id</th>\n",
       "      <th>file</th>\n",
       "      <th>bucket</th>\n",
       "      <th>matching_rules</th>\n",
       "      <th>data.author_id</th>\n",
       "      <th>data.text</th>\n",
       "      <th>data.referenced_tweets</th>\n",
       "      <th>includes.media</th>\n",
       "      <th>output</th>\n",
       "      <th>teller</th>\n",
       "      <th>teller_correct</th>\n",
       "      <th>teller_corrected</th>\n",
       "      <th>mode_of_telling</th>\n",
       "      <th>mode_of_telling_correct</th>\n",
       "      <th>mode_of_telling_corrected</th>\n",
       "      <th>recipient</th>\n",
       "      <th>recipient_correct</th>\n",
       "      <th>recipient_corrected</th>\n",
       "      <th>social_situation</th>\n",
       "      <th>social_situation_correct</th>\n",
       "      <th>social_situation_corrected</th>\n",
       "      <th>agent</th>\n",
       "      <th>agent_correct</th>\n",
       "      <th>agent_corrected</th>\n",
       "      <th>action_or_event</th>\n",
       "      <th>action_or_event_correct</th>\n",
       "      <th>action_or_event_correct_ed</th>\n",
       "      <th>object</th>\n",
       "      <th>object_correct</th>\n",
       "      <th>object_corrected</th>\n",
       "      <th>location</th>\n",
       "      <th>location_correct</th>\n",
       "      <th>location_corrected</th>\n",
       "      <th>time_frame</th>\n",
       "      <th>time_frame_correct</th>\n",
       "      <th>time_frame_corrected</th>\n",
       "      <th>motivation_or_cause</th>\n",
       "      <th>motivation_or_cause_correct</th>\n",
       "      <th>motivation_or_cause_corrected</th>\n",
       "      <th>good_example</th>\n",
       "      <th>notes</th>\n",
       "    </tr>\n",
       "  </thead>\n",
       "  <tbody>\n",
       "    <tr>\n",
       "      <th>0</th>\n",
       "      <td>1.895656e+18</td>\n",
       "      <td>2025/03/01/05/x-1-2025-03-01-05-57-44-d6423c97...</td>\n",
       "      <td>x-misinfo</td>\n",
       "      <td>[{'id': '1895531213122588673', 'tag': 'keyword...</td>\n",
       "      <td>1.497096e+18</td>\n",
       "      <td>@stavridisj @CNN @jimsciutto This puts Canada ...</td>\n",
       "      <td>[{'type': 'replied_to', 'id': '189565586453681...</td>\n",
       "      <td>[{'duration_ms': 305386, 'height': 720, 'media...</td>\n",
       "      <td>{'teller': 'User', 'mode_of_telling': 'Direct ...</td>\n",
       "      <td>User</td>\n",
       "      <td>1.0</td>\n",
       "      <td>NaN</td>\n",
       "      <td>Direct question</td>\n",
       "      <td>1.0</td>\n",
       "      <td>NaN</td>\n",
       "      <td>Admiral Stavridis</td>\n",
       "      <td>1.0</td>\n",
       "      <td>NaN</td>\n",
       "      <td>Online conversation on Twitter</td>\n",
       "      <td>1.0</td>\n",
       "      <td>NaN</td>\n",
       "      <td>Canada</td>\n",
       "      <td>1.0</td>\n",
       "      <td>NaN</td>\n",
       "      <td>faces a difficult situation</td>\n",
       "      <td>1.0</td>\n",
       "      <td>NaN</td>\n",
       "      <td>NaN</td>\n",
       "      <td>NaN</td>\n",
       "      <td>NaN</td>\n",
       "      <td>NaN</td>\n",
       "      <td>NaN</td>\n",
       "      <td>NaN</td>\n",
       "      <td>NaN</td>\n",
       "      <td>NaN</td>\n",
       "      <td>NaN</td>\n",
       "      <td>Unspecified context affecting Canada</td>\n",
       "      <td>1.0</td>\n",
       "      <td>NaN</td>\n",
       "      <td>NaN</td>\n",
       "      <td>NaN</td>\n",
       "    </tr>\n",
       "    <tr>\n",
       "      <th>1</th>\n",
       "      <td>1.895601e+18</td>\n",
       "      <td>2025/03/01/00/x-1-2025-03-01-00-01-57-ff8f6d7a...</td>\n",
       "      <td>x-misinfo</td>\n",
       "      <td>[{'id': '1895531213122588673', 'tag': 'keyword...</td>\n",
       "      <td>1.780186e+18</td>\n",
       "      <td>@yashar Awesome! Go fight in the war then UK a...</td>\n",
       "      <td>[{'type': 'replied_to', 'id': '189560145422574...</td>\n",
       "      <td>[{'height': 2000, 'media_key': '3_189560145011...</td>\n",
       "      <td>{'teller': 'User', 'mode_of_telling': 'Exclama...</td>\n",
       "      <td>User</td>\n",
       "      <td>1.0</td>\n",
       "      <td>NaN</td>\n",
       "      <td>Exclamatory</td>\n",
       "      <td>1.0</td>\n",
       "      <td>NaN</td>\n",
       "      <td>@yashar</td>\n",
       "      <td>1.0</td>\n",
       "      <td>NaN</td>\n",
       "      <td>Responding to a post</td>\n",
       "      <td>1.0</td>\n",
       "      <td>NaN</td>\n",
       "      <td>@yashar</td>\n",
       "      <td>-1.0</td>\n",
       "      <td>NaN</td>\n",
       "      <td>Fight in the war</td>\n",
       "      <td>-1.0</td>\n",
       "      <td>NaN</td>\n",
       "      <td>UK and Europe</td>\n",
       "      <td>-1.0</td>\n",
       "      <td>NaN</td>\n",
       "      <td>NaN</td>\n",
       "      <td>NaN</td>\n",
       "      <td>NaN</td>\n",
       "      <td>NaN</td>\n",
       "      <td>NaN</td>\n",
       "      <td>NaN</td>\n",
       "      <td>Expressing enthusiasm and sarcasm about the du...</td>\n",
       "      <td>1.0</td>\n",
       "      <td>NaN</td>\n",
       "      <td>NaN</td>\n",
       "      <td>NaN</td>\n",
       "    </tr>\n",
       "    <tr>\n",
       "      <th>2</th>\n",
       "      <td>1.895667e+18</td>\n",
       "      <td>2025/03/01/02/x-1-2025-03-01-02-49-07-33bbb6c4...</td>\n",
       "      <td>x-misinfo</td>\n",
       "      <td>[{'id': '1895531213122588673', 'tag': 'keyword...</td>\n",
       "      <td>7.122365e+17</td>\n",
       "      <td>@TezcatliOcta “Not only that, their operations...</td>\n",
       "      <td>[{'type': 'replied_to', 'id': '189566748376978...</td>\n",
       "      <td>[{'height': 2048, 'media_key': '3_189566747664...</td>\n",
       "      <td>{'teller': 'User', 'mode_of_telling': 'Stateme...</td>\n",
       "      <td>User</td>\n",
       "      <td>1.0</td>\n",
       "      <td>NaN</td>\n",
       "      <td>Statement</td>\n",
       "      <td>1.0</td>\n",
       "      <td>NaN</td>\n",
       "      <td>General public</td>\n",
       "      <td>1.0</td>\n",
       "      <td>NaN</td>\n",
       "      <td>Commentary on trade relations</td>\n",
       "      <td>1.0</td>\n",
       "      <td>NaN</td>\n",
       "      <td>President Donald Trump</td>\n",
       "      <td>1.0</td>\n",
       "      <td>NaN</td>\n",
       "      <td>threatened to impose tariffs</td>\n",
       "      <td>1.0</td>\n",
       "      <td>NaN</td>\n",
       "      <td>Canada</td>\n",
       "      <td>1.0</td>\n",
       "      <td>NaN</td>\n",
       "      <td>United States</td>\n",
       "      <td>1.0</td>\n",
       "      <td>NaN</td>\n",
       "      <td>NaN</td>\n",
       "      <td>NaN</td>\n",
       "      <td>NaN</td>\n",
       "      <td>to address flooding his country with dangerous...</td>\n",
       "      <td>1.0</td>\n",
       "      <td>NaN</td>\n",
       "      <td>1.0</td>\n",
       "      <td>NaN</td>\n",
       "    </tr>\n",
       "  </tbody>\n",
       "</table>\n",
       "</div>"
      ],
      "text/plain": [
       "   data.conversation_id                                               file  \\\n",
       "0          1.895656e+18  2025/03/01/05/x-1-2025-03-01-05-57-44-d6423c97...   \n",
       "1          1.895601e+18  2025/03/01/00/x-1-2025-03-01-00-01-57-ff8f6d7a...   \n",
       "2          1.895667e+18  2025/03/01/02/x-1-2025-03-01-02-49-07-33bbb6c4...   \n",
       "\n",
       "      bucket                                     matching_rules  \\\n",
       "0  x-misinfo  [{'id': '1895531213122588673', 'tag': 'keyword...   \n",
       "1  x-misinfo  [{'id': '1895531213122588673', 'tag': 'keyword...   \n",
       "2  x-misinfo  [{'id': '1895531213122588673', 'tag': 'keyword...   \n",
       "\n",
       "   data.author_id                                          data.text  \\\n",
       "0    1.497096e+18  @stavridisj @CNN @jimsciutto This puts Canada ...   \n",
       "1    1.780186e+18  @yashar Awesome! Go fight in the war then UK a...   \n",
       "2    7.122365e+17  @TezcatliOcta “Not only that, their operations...   \n",
       "\n",
       "                              data.referenced_tweets  \\\n",
       "0  [{'type': 'replied_to', 'id': '189565586453681...   \n",
       "1  [{'type': 'replied_to', 'id': '189560145422574...   \n",
       "2  [{'type': 'replied_to', 'id': '189566748376978...   \n",
       "\n",
       "                                      includes.media  \\\n",
       "0  [{'duration_ms': 305386, 'height': 720, 'media...   \n",
       "1  [{'height': 2000, 'media_key': '3_189560145011...   \n",
       "2  [{'height': 2048, 'media_key': '3_189566747664...   \n",
       "\n",
       "                                              output teller  teller_correct  \\\n",
       "0  {'teller': 'User', 'mode_of_telling': 'Direct ...   User             1.0   \n",
       "1  {'teller': 'User', 'mode_of_telling': 'Exclama...   User             1.0   \n",
       "2  {'teller': 'User', 'mode_of_telling': 'Stateme...   User             1.0   \n",
       "\n",
       "   teller_corrected  mode_of_telling  mode_of_telling_correct  \\\n",
       "0               NaN  Direct question                      1.0   \n",
       "1               NaN      Exclamatory                      1.0   \n",
       "2               NaN        Statement                      1.0   \n",
       "\n",
       "   mode_of_telling_corrected          recipient  recipient_correct  \\\n",
       "0                        NaN  Admiral Stavridis                1.0   \n",
       "1                        NaN            @yashar                1.0   \n",
       "2                        NaN     General public                1.0   \n",
       "\n",
       "   recipient_corrected                social_situation  \\\n",
       "0                  NaN  Online conversation on Twitter   \n",
       "1                  NaN            Responding to a post   \n",
       "2                  NaN   Commentary on trade relations   \n",
       "\n",
       "   social_situation_correct  social_situation_corrected  \\\n",
       "0                       1.0                         NaN   \n",
       "1                       1.0                         NaN   \n",
       "2                       1.0                         NaN   \n",
       "\n",
       "                    agent  agent_correct agent_corrected  \\\n",
       "0                  Canada            1.0             NaN   \n",
       "1                 @yashar           -1.0             NaN   \n",
       "2  President Donald Trump            1.0             NaN   \n",
       "\n",
       "                action_or_event  action_or_event_correct  \\\n",
       "0   faces a difficult situation                      1.0   \n",
       "1              Fight in the war                     -1.0   \n",
       "2  threatened to impose tariffs                      1.0   \n",
       "\n",
       "  action_or_event_correct_ed         object  object_correct object_corrected  \\\n",
       "0                        NaN            NaN             NaN              NaN   \n",
       "1                        NaN  UK and Europe            -1.0              NaN   \n",
       "2                        NaN         Canada             1.0              NaN   \n",
       "\n",
       "        location  location_correct location_corrected time_frame  \\\n",
       "0            NaN               NaN                NaN        NaN   \n",
       "1            NaN               NaN                NaN        NaN   \n",
       "2  United States               1.0                NaN        NaN   \n",
       "\n",
       "   time_frame_correct  time_frame_corrected  \\\n",
       "0                 NaN                   NaN   \n",
       "1                 NaN                   NaN   \n",
       "2                 NaN                   NaN   \n",
       "\n",
       "                                 motivation_or_cause  \\\n",
       "0               Unspecified context affecting Canada   \n",
       "1  Expressing enthusiasm and sarcasm about the du...   \n",
       "2  to address flooding his country with dangerous...   \n",
       "\n",
       "   motivation_or_cause_correct motivation_or_cause_corrected  good_example  \\\n",
       "0                          1.0                           NaN           NaN   \n",
       "1                          1.0                           NaN           NaN   \n",
       "2                          1.0                           NaN           1.0   \n",
       "\n",
       "   notes  \n",
       "0    NaN  \n",
       "1    NaN  \n",
       "2    NaN  "
      ]
     },
     "execution_count": 127,
     "metadata": {},
     "output_type": "execute_result"
    }
   ],
   "source": [
    "# Read annotations\n",
    "fname = './data/annotated/df_x_sample_narrative_extractions.xlsx'\n",
    "df_annot = pd.read_excel(fname)\n",
    "print(df_annot.shape)\n",
    "df_annot[:3]"
   ]
  },
  {
   "cell_type": "code",
   "execution_count": 134,
   "metadata": {},
   "outputs": [],
   "source": [
    "output_cols = [\n",
    "    'agent', 'action_or_event', 'object', 'location', 'time_frame',\n",
    "    'motivation_or_cause',\n",
    "]\n",
    "annot_cols = [col+'_correct' for col in output_cols]"
   ]
  },
  {
   "cell_type": "code",
   "execution_count": 139,
   "metadata": {},
   "outputs": [
    {
     "data": {
      "text/plain": [
       "agent_correct                  0.750000\n",
       "action_or_event_correct        0.730769\n",
       "object_correct                 0.769231\n",
       "location_correct               0.942308\n",
       "time_frame_correct             0.942308\n",
       "motivation_or_cause_correct    0.846154\n",
       "dtype: float64"
      ]
     },
     "execution_count": 139,
     "metadata": {},
     "output_type": "execute_result"
    }
   ],
   "source": [
    "# Grading (including null responses)\n",
    "df_annot[annot_cols].fillna(1).replace({-1: 0}).mean()"
   ]
  },
  {
   "cell_type": "code",
   "execution_count": 140,
   "metadata": {},
   "outputs": [
    {
     "data": {
      "text/plain": [
       "agent_correct                  0.711111\n",
       "action_or_event_correct        0.708333\n",
       "object_correct                 0.700000\n",
       "location_correct               0.700000\n",
       "time_frame_correct             0.400000\n",
       "motivation_or_cause_correct    0.733333\n",
       "dtype: float64"
      ]
     },
     "execution_count": 140,
     "metadata": {},
     "output_type": "execute_result"
    }
   ],
   "source": [
    "# Grading (excluding null responses)\n",
    "df_annot[annot_cols].replace({-1: 0}).mean()"
   ]
  },
  {
   "cell_type": "code",
   "execution_count": null,
   "metadata": {},
   "outputs": [],
   "source": []
  }
 ],
 "metadata": {
  "kernelspec": {
   "display_name": "complexdata-kernel",
   "language": "python",
   "name": "complexdata-kernel"
  },
  "language_info": {
   "codemirror_mode": {
    "name": "ipython",
    "version": 3
   },
   "file_extension": ".py",
   "mimetype": "text/x-python",
   "name": "python",
   "nbconvert_exporter": "python",
   "pygments_lexer": "ipython3",
   "version": "3.10.8"
  }
 },
 "nbformat": 4,
 "nbformat_minor": 2
}
